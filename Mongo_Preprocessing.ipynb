{
  "nbformat": 4,
  "nbformat_minor": 0,
  "metadata": {
    "colab": {
      "provenance": []
    },
    "kernelspec": {
      "name": "python3",
      "display_name": "Python 3"
    },
    "language_info": {
      "name": "python"
    }
  },
  "cells": [
    {
      "cell_type": "code",
      "execution_count": 1,
      "metadata": {
        "id": "f5imIsl_Sn6e"
      },
      "outputs": [],
      "source": [
        "import pandas as pd\n",
        "\n",
        "# Read CSV and filter out players with overall less than 70\n",
        "df = pd.read_csv('players_22.csv', usecols=['long_name', 'overall', 'pace', 'shooting', 'passing', 'dribbling', 'defending', 'physic', 'club_name', 'player_positions'])\n",
        "\n",
        "# Rename columns\n",
        "df = df.rename(columns={'club_name': 'club', 'player_positions': 'position'})\n",
        "\n",
        "# Save dataframe as a JSON file\n",
        "df.to_json('filtered_players.json', orient='records')\n",
        "\n",
        "\n"
      ]
    }
  ]
}