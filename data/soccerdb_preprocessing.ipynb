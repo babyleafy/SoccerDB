{
  "nbformat": 4,
  "nbformat_minor": 0,
  "metadata": {
    "colab": {
      "provenance": []
    },
    "kernelspec": {
      "name": "python3",
      "display_name": "Python 3"
    },
    "language_info": {
      "name": "python"
    }
  },
  "cells": [
    {
      "cell_type": "markdown",
      "metadata": {
        "id": "view-in-github"
      },
      "source": [
        "<a href=\"https://colab.research.google.com/github/tonyjan02/soccerdb/blob/main/pre_processing.ipynb\" target=\"_parent\"><img src=\"https://colab.research.google.com/assets/colab-badge.svg\" alt=\"Open In Colab\"/></a>"
      ]
    },
    {
      "cell_type": "markdown",
      "source": [
        "### CIS 550 Pre-Processing"
      ],
      "metadata": {
        "id": "9r44dAw4lTMp"
      }
    },
    {
      "cell_type": "markdown",
      "source": [
        "# Set-Up: Imports with Kaggle "
      ],
      "metadata": {
        "id": "AtHmIhw2lLgv"
      }
    },
    {
      "cell_type": "code",
      "execution_count": null,
      "metadata": {
        "id": "VHT-I_qu35is"
      },
      "outputs": [],
      "source": [
        "# importing necessary libraries\n",
        "import json\n",
        "import pandas as pd\n",
        "import numpy as np\n",
        "import datetime as dt\n",
        "import matplotlib.pyplot as plt\n",
        "import seaborn as sns\n",
        "from matplotlib import cm\n",
        "from google.colab import drive\n",
        "from sklearn.model_selection import train_test_split"
      ]
    },
    {
      "cell_type": "code",
      "source": [
        "!apt update"
      ],
      "metadata": {
        "id": "VWkA9mzI48z9",
        "colab": {
          "base_uri": "https://localhost:8080/"
        },
        "outputId": "2bf5ca48-bb6a-4871-cf9d-984fae92bf01"
      },
      "execution_count": null,
      "outputs": [
        {
          "output_type": "stream",
          "name": "stdout",
          "text": [
            "\u001b[33m\r0% [Working]\u001b[0m\r            \rGet:1 http://security.ubuntu.com/ubuntu focal-security InRelease [114 kB]\n",
            "\u001b[33m\r0% [Connecting to archive.ubuntu.com] [1 InRelease 14.2 kB/114 kB 12%] [Waiting\u001b[0m\r                                                                               \rGet:2 https://cloud.r-project.org/bin/linux/ubuntu focal-cran40/ InRelease [3,622 B]\n",
            "\u001b[33m\r0% [Connecting to archive.ubuntu.com] [1 InRelease 14.2 kB/114 kB 12%] [2 InRel\u001b[0m\u001b[33m\r0% [Connecting to archive.ubuntu.com] [1 InRelease 14.2 kB/114 kB 12%] [Connect\u001b[0m\r                                                                               \rGet:3 https://developer.download.nvidia.com/compute/cuda/repos/ubuntu2004/x86_64  InRelease [1,581 B]\n",
            "Hit:4 http://archive.ubuntu.com/ubuntu focal InRelease\n",
            "Hit:5 http://ppa.launchpad.net/c2d4u.team/c2d4u4.0+/ubuntu focal InRelease\n",
            "Get:6 http://archive.ubuntu.com/ubuntu focal-updates InRelease [114 kB]\n",
            "Get:7 https://developer.download.nvidia.com/compute/cuda/repos/ubuntu2004/x86_64  Packages [1,011 kB]\n",
            "Get:8 http://archive.ubuntu.com/ubuntu focal-backports InRelease [108 kB]\n",
            "Hit:9 http://ppa.launchpad.net/cran/libgit2/ubuntu focal InRelease\n",
            "Get:10 http://security.ubuntu.com/ubuntu focal-security/restricted amd64 Packages [2,345 kB]\n",
            "Hit:11 http://ppa.launchpad.net/deadsnakes/ppa/ubuntu focal InRelease\n",
            "Get:12 http://archive.ubuntu.com/ubuntu focal-updates/universe amd64 Packages [1,351 kB]\n",
            "Get:13 http://security.ubuntu.com/ubuntu focal-security/main amd64 Packages [2,772 kB]\n",
            "Get:14 http://security.ubuntu.com/ubuntu focal-security/universe amd64 Packages [1,056 kB]\n",
            "Get:15 http://archive.ubuntu.com/ubuntu focal-updates/main amd64 Packages [3,252 kB]\n",
            "Hit:16 http://ppa.launchpad.net/graphics-drivers/ppa/ubuntu focal InRelease\n",
            "Hit:17 http://ppa.launchpad.net/ubuntugis/ppa/ubuntu focal InRelease\n",
            "Fetched 12.1 MB in 1s (8,628 kB/s)\n",
            "Reading package lists... Done\n",
            "Building dependency tree       \n",
            "Reading state information... Done\n",
            "38 packages can be upgraded. Run 'apt list --upgradable' to see them.\n"
          ]
        }
      ]
    },
    {
      "cell_type": "code",
      "source": [
        "from google.colab import drive\n",
        "drive.mount('/content/drive')"
      ],
      "metadata": {
        "id": "q2Vkle-C4-d9",
        "colab": {
          "base_uri": "https://localhost:8080/"
        },
        "outputId": "adf5ef35-947a-4412-bfc8-939dd333ade1"
      },
      "execution_count": null,
      "outputs": [
        {
          "output_type": "stream",
          "name": "stdout",
          "text": [
            "Mounted at /content/drive\n"
          ]
        }
      ]
    },
    {
      "cell_type": "code",
      "source": [
        "!pip install kaggle"
      ],
      "metadata": {
        "id": "IDr-uHIb4_nO",
        "colab": {
          "base_uri": "https://localhost:8080/"
        },
        "outputId": "1c0b80f7-f02a-407e-fb6a-db2a78589de7"
      },
      "execution_count": null,
      "outputs": [
        {
          "output_type": "stream",
          "name": "stdout",
          "text": [
            "Looking in indexes: https://pypi.org/simple, https://us-python.pkg.dev/colab-wheels/public/simple/\n",
            "Requirement already satisfied: kaggle in /usr/local/lib/python3.10/dist-packages (1.5.13)\n",
            "Requirement already satisfied: six>=1.10 in /usr/local/lib/python3.10/dist-packages (from kaggle) (1.16.0)\n",
            "Requirement already satisfied: certifi in /usr/local/lib/python3.10/dist-packages (from kaggle) (2022.12.7)\n",
            "Requirement already satisfied: python-dateutil in /usr/local/lib/python3.10/dist-packages (from kaggle) (2.8.2)\n",
            "Requirement already satisfied: requests in /usr/local/lib/python3.10/dist-packages (from kaggle) (2.27.1)\n",
            "Requirement already satisfied: tqdm in /usr/local/lib/python3.10/dist-packages (from kaggle) (4.65.0)\n",
            "Requirement already satisfied: python-slugify in /usr/local/lib/python3.10/dist-packages (from kaggle) (8.0.1)\n",
            "Requirement already satisfied: urllib3 in /usr/local/lib/python3.10/dist-packages (from kaggle) (1.26.15)\n",
            "Requirement already satisfied: text-unidecode>=1.3 in /usr/local/lib/python3.10/dist-packages (from python-slugify->kaggle) (1.3)\n",
            "Requirement already satisfied: charset-normalizer~=2.0.0 in /usr/local/lib/python3.10/dist-packages (from requests->kaggle) (2.0.12)\n",
            "Requirement already satisfied: idna<4,>=2.5 in /usr/local/lib/python3.10/dist-packages (from requests->kaggle) (3.4)\n"
          ]
        }
      ]
    },
    {
      "cell_type": "code",
      "source": [
        "!mkdir ~/.kaggle"
      ],
      "metadata": {
        "id": "hWTDRW2O5ByY"
      },
      "execution_count": null,
      "outputs": []
    },
    {
      "cell_type": "code",
      "source": [
        "!cp /content/drive/MyDrive/kaggle.json ~/.kaggle/"
      ],
      "metadata": {
        "id": "DuPzIMNT5C33"
      },
      "execution_count": null,
      "outputs": []
    },
    {
      "cell_type": "code",
      "source": [
        "!kaggle datasets download -d davidcariboo/player-scores"
      ],
      "metadata": {
        "id": "prdXAVcE5EFo",
        "colab": {
          "base_uri": "https://localhost:8080/"
        },
        "outputId": "c787dc1b-9ffc-44b5-a460-5df371d7b8b1"
      },
      "execution_count": null,
      "outputs": [
        {
          "output_type": "stream",
          "name": "stdout",
          "text": [
            "Downloading player-scores.zip to /content\n",
            " 95% 41.0M/43.1M [00:01<00:00, 32.2MB/s]\n",
            "100% 43.1M/43.1M [00:01<00:00, 38.8MB/s]\n"
          ]
        }
      ]
    },
    {
      "cell_type": "code",
      "source": [
        "!unzip /content/player-scores.zip"
      ],
      "metadata": {
        "id": "7ZqRU8aZ5FVj",
        "colab": {
          "base_uri": "https://localhost:8080/"
        },
        "outputId": "e2bd4c3e-79e0-4e83-ced7-485bc3ffebcb"
      },
      "execution_count": null,
      "outputs": [
        {
          "output_type": "stream",
          "name": "stdout",
          "text": [
            "Archive:  /content/player-scores.zip\n",
            "  inflating: appearances.csv         \n",
            "  inflating: club_games.csv          \n",
            "  inflating: clubs.csv               \n",
            "  inflating: competitions.csv        \n",
            "  inflating: game_events.csv         \n",
            "  inflating: games.csv               \n",
            "  inflating: player_valuations.csv   \n",
            "  inflating: players.csv             \n"
          ]
        }
      ]
    },
    {
      "cell_type": "markdown",
      "source": [
        "# Cleaning Players Dataset"
      ],
      "metadata": {
        "id": "KmoHnrEjlbwI"
      }
    },
    {
      "cell_type": "code",
      "source": [
        "players_df = pd.read_csv(\"players.csv\")"
      ],
      "metadata": {
        "id": "NuI98kXO6O-A"
      },
      "execution_count": null,
      "outputs": []
    },
    {
      "cell_type": "code",
      "source": [
        "players_df.columns"
      ],
      "metadata": {
        "colab": {
          "base_uri": "https://localhost:8080/"
        },
        "id": "05C7RBrzcGc3",
        "outputId": "6193ed2a-5945-4ffd-8ecb-c8e2690273f1"
      },
      "execution_count": null,
      "outputs": [
        {
          "output_type": "execute_result",
          "data": {
            "text/plain": [
              "Index(['player_id', 'first_name', 'last_name', 'name', 'last_season',\n",
              "       'current_club_id', 'player_code', 'country_of_birth', 'city_of_birth',\n",
              "       'country_of_citizenship', 'date_of_birth', 'sub_position', 'position',\n",
              "       'foot', 'height_in_cm', 'market_value_in_eur',\n",
              "       'highest_market_value_in_eur', 'contract_expiration_date', 'agent_name',\n",
              "       'image_url', 'url', 'current_club_domestic_competition_id',\n",
              "       'current_club_name'],\n",
              "      dtype='object')"
            ]
          },
          "metadata": {},
          "execution_count": 10
        }
      ]
    },
    {
      "cell_type": "code",
      "source": [
        "players_df = players_df.drop(columns=[\"current_club_name\", \"country_of_birth\", \"city_of_birth\", \"position\", \"agent_name\", \"contract_expiration_date\", \"current_club_domestic_competition_id\", \"url\", \"player_code\", \"first_name\", \"last_name\"])"
      ],
      "metadata": {
        "id": "8-euXzDDbaxy"
      },
      "execution_count": null,
      "outputs": []
    },
    {
      "cell_type": "code",
      "source": [
        "players_df = players_df.rename(columns={\"name\": \"player_name\", \"current_club_id\": \"club_id\", \"country_of_citizenship\": \"country\", \"sub_position\": \"position\"})\n",
        "len(players_df.index) # pre-drop"
      ],
      "metadata": {
        "colab": {
          "base_uri": "https://localhost:8080/"
        },
        "id": "JFAbPa1RfNCI",
        "outputId": "8470f22a-e51d-4f09-dc55-91ba6173d472"
      },
      "execution_count": null,
      "outputs": [
        {
          "output_type": "execute_result",
          "data": {
            "text/plain": [
              "28462"
            ]
          },
          "metadata": {},
          "execution_count": 12
        }
      ]
    },
    {
      "cell_type": "code",
      "source": [
        "players_df = players_df.dropna(subset=[\"player_id\", \"player_name\"])\n",
        "len(players_df.index) # post-drop, no null values for core attributes"
      ],
      "metadata": {
        "colab": {
          "base_uri": "https://localhost:8080/"
        },
        "id": "0Iwtx1tHeRJw",
        "outputId": "77339962-c1a4-415b-c7cc-391a55d4772d"
      },
      "execution_count": null,
      "outputs": [
        {
          "output_type": "execute_result",
          "data": {
            "text/plain": [
              "28462"
            ]
          },
          "metadata": {},
          "execution_count": 13
        }
      ]
    },
    {
      "cell_type": "code",
      "source": [
        "players_df"
      ],
      "metadata": {
        "colab": {
          "base_uri": "https://localhost:8080/",
          "height": 644
        },
        "id": "LxrULTzHi0eH",
        "outputId": "45fc5bb0-fca4-4bb1-e0d6-30f517384e7b"
      },
      "execution_count": null,
      "outputs": [
        {
          "output_type": "execute_result",
          "data": {
            "text/plain": [
              "       player_id          player_name  last_season  club_id      country  \\\n",
              "0            597       Aleksandr Hleb         2016     2696      Belarus   \n",
              "1           1428           Mike Hanke         2013       60      Germany   \n",
              "2           1560  Youssef El Akchaoui         2012      306      Morocco   \n",
              "3           1587       Mario Eggimann         2012       42  Switzerland   \n",
              "4           1726     Heiko Westermann         2016      610      Germany   \n",
              "...          ...                  ...          ...      ...          ...   \n",
              "28457     199337          Rifat Erdem         2013     2293       Turkey   \n",
              "28458     209569       Mücahit Atalay         2020     2293       Turkey   \n",
              "28459     221118   Patrick Friday Eze         2017     2293      Nigeria   \n",
              "28460     273053          Burak Saban         2018     2293  Netherlands   \n",
              "28461     621911      Ekrem Kayilibal         2021     2293       Turkey   \n",
              "\n",
              "      date_of_birth            position   foot  height_in_cm  \\\n",
              "0        1981-05-01  Attacking Midfield    NaN           NaN   \n",
              "1        1983-11-05      Centre-Forward  right         185.0   \n",
              "2        1981-02-18           Left-Back    NaN           NaN   \n",
              "3               NaN         Centre-Back  right         190.0   \n",
              "4        1983-08-14         Centre-Back  right         190.0   \n",
              "...             ...                 ...    ...           ...   \n",
              "28457    1990-02-28          Right-Back  right           NaN   \n",
              "28458    1991-10-26          Goalkeeper  right         186.0   \n",
              "28459    1992-12-22      Centre-Forward  right         187.0   \n",
              "28460    1994-04-20        Right Winger   both         177.0   \n",
              "28461    1999-09-22        Right Winger   both         176.0   \n",
              "\n",
              "       market_value_in_eur  highest_market_value_in_eur  \\\n",
              "0                      NaN                   19000000.0   \n",
              "1                      NaN                    5000000.0   \n",
              "2                      NaN                    1750000.0   \n",
              "3                      NaN                    3000000.0   \n",
              "4                      NaN                    9000000.0   \n",
              "...                    ...                          ...   \n",
              "28457                  NaN                     100000.0   \n",
              "28458                  NaN                     250000.0   \n",
              "28459             200000.0                     775000.0   \n",
              "28460                  NaN                     200000.0   \n",
              "28461              50000.0                     100000.0   \n",
              "\n",
              "                                               image_url  \n",
              "0      https://img.a.transfermarkt.technology/portrai...  \n",
              "1      https://img.a.transfermarkt.technology/portrai...  \n",
              "2      https://img.a.transfermarkt.technology/portrai...  \n",
              "3      https://img.a.transfermarkt.technology/portrai...  \n",
              "4      https://img.a.transfermarkt.technology/portrai...  \n",
              "...                                                  ...  \n",
              "28457  https://img.a.transfermarkt.technology/portrai...  \n",
              "28458  https://img.a.transfermarkt.technology/portrai...  \n",
              "28459  https://img.a.transfermarkt.technology/portrai...  \n",
              "28460  https://img.a.transfermarkt.technology/portrai...  \n",
              "28461  https://img.a.transfermarkt.technology/portrai...  \n",
              "\n",
              "[28462 rows x 12 columns]"
            ],
            "text/html": [
              "\n",
              "  <div id=\"df-57fb77a4-f436-4844-8a1d-c7a19c783feb\">\n",
              "    <div class=\"colab-df-container\">\n",
              "      <div>\n",
              "<style scoped>\n",
              "    .dataframe tbody tr th:only-of-type {\n",
              "        vertical-align: middle;\n",
              "    }\n",
              "\n",
              "    .dataframe tbody tr th {\n",
              "        vertical-align: top;\n",
              "    }\n",
              "\n",
              "    .dataframe thead th {\n",
              "        text-align: right;\n",
              "    }\n",
              "</style>\n",
              "<table border=\"1\" class=\"dataframe\">\n",
              "  <thead>\n",
              "    <tr style=\"text-align: right;\">\n",
              "      <th></th>\n",
              "      <th>player_id</th>\n",
              "      <th>player_name</th>\n",
              "      <th>last_season</th>\n",
              "      <th>club_id</th>\n",
              "      <th>country</th>\n",
              "      <th>date_of_birth</th>\n",
              "      <th>position</th>\n",
              "      <th>foot</th>\n",
              "      <th>height_in_cm</th>\n",
              "      <th>market_value_in_eur</th>\n",
              "      <th>highest_market_value_in_eur</th>\n",
              "      <th>image_url</th>\n",
              "    </tr>\n",
              "  </thead>\n",
              "  <tbody>\n",
              "    <tr>\n",
              "      <th>0</th>\n",
              "      <td>597</td>\n",
              "      <td>Aleksandr Hleb</td>\n",
              "      <td>2016</td>\n",
              "      <td>2696</td>\n",
              "      <td>Belarus</td>\n",
              "      <td>1981-05-01</td>\n",
              "      <td>Attacking Midfield</td>\n",
              "      <td>NaN</td>\n",
              "      <td>NaN</td>\n",
              "      <td>NaN</td>\n",
              "      <td>19000000.0</td>\n",
              "      <td>https://img.a.transfermarkt.technology/portrai...</td>\n",
              "    </tr>\n",
              "    <tr>\n",
              "      <th>1</th>\n",
              "      <td>1428</td>\n",
              "      <td>Mike Hanke</td>\n",
              "      <td>2013</td>\n",
              "      <td>60</td>\n",
              "      <td>Germany</td>\n",
              "      <td>1983-11-05</td>\n",
              "      <td>Centre-Forward</td>\n",
              "      <td>right</td>\n",
              "      <td>185.0</td>\n",
              "      <td>NaN</td>\n",
              "      <td>5000000.0</td>\n",
              "      <td>https://img.a.transfermarkt.technology/portrai...</td>\n",
              "    </tr>\n",
              "    <tr>\n",
              "      <th>2</th>\n",
              "      <td>1560</td>\n",
              "      <td>Youssef El Akchaoui</td>\n",
              "      <td>2012</td>\n",
              "      <td>306</td>\n",
              "      <td>Morocco</td>\n",
              "      <td>1981-02-18</td>\n",
              "      <td>Left-Back</td>\n",
              "      <td>NaN</td>\n",
              "      <td>NaN</td>\n",
              "      <td>NaN</td>\n",
              "      <td>1750000.0</td>\n",
              "      <td>https://img.a.transfermarkt.technology/portrai...</td>\n",
              "    </tr>\n",
              "    <tr>\n",
              "      <th>3</th>\n",
              "      <td>1587</td>\n",
              "      <td>Mario Eggimann</td>\n",
              "      <td>2012</td>\n",
              "      <td>42</td>\n",
              "      <td>Switzerland</td>\n",
              "      <td>NaN</td>\n",
              "      <td>Centre-Back</td>\n",
              "      <td>right</td>\n",
              "      <td>190.0</td>\n",
              "      <td>NaN</td>\n",
              "      <td>3000000.0</td>\n",
              "      <td>https://img.a.transfermarkt.technology/portrai...</td>\n",
              "    </tr>\n",
              "    <tr>\n",
              "      <th>4</th>\n",
              "      <td>1726</td>\n",
              "      <td>Heiko Westermann</td>\n",
              "      <td>2016</td>\n",
              "      <td>610</td>\n",
              "      <td>Germany</td>\n",
              "      <td>1983-08-14</td>\n",
              "      <td>Centre-Back</td>\n",
              "      <td>right</td>\n",
              "      <td>190.0</td>\n",
              "      <td>NaN</td>\n",
              "      <td>9000000.0</td>\n",
              "      <td>https://img.a.transfermarkt.technology/portrai...</td>\n",
              "    </tr>\n",
              "    <tr>\n",
              "      <th>...</th>\n",
              "      <td>...</td>\n",
              "      <td>...</td>\n",
              "      <td>...</td>\n",
              "      <td>...</td>\n",
              "      <td>...</td>\n",
              "      <td>...</td>\n",
              "      <td>...</td>\n",
              "      <td>...</td>\n",
              "      <td>...</td>\n",
              "      <td>...</td>\n",
              "      <td>...</td>\n",
              "      <td>...</td>\n",
              "    </tr>\n",
              "    <tr>\n",
              "      <th>28457</th>\n",
              "      <td>199337</td>\n",
              "      <td>Rifat Erdem</td>\n",
              "      <td>2013</td>\n",
              "      <td>2293</td>\n",
              "      <td>Turkey</td>\n",
              "      <td>1990-02-28</td>\n",
              "      <td>Right-Back</td>\n",
              "      <td>right</td>\n",
              "      <td>NaN</td>\n",
              "      <td>NaN</td>\n",
              "      <td>100000.0</td>\n",
              "      <td>https://img.a.transfermarkt.technology/portrai...</td>\n",
              "    </tr>\n",
              "    <tr>\n",
              "      <th>28458</th>\n",
              "      <td>209569</td>\n",
              "      <td>Mücahit Atalay</td>\n",
              "      <td>2020</td>\n",
              "      <td>2293</td>\n",
              "      <td>Turkey</td>\n",
              "      <td>1991-10-26</td>\n",
              "      <td>Goalkeeper</td>\n",
              "      <td>right</td>\n",
              "      <td>186.0</td>\n",
              "      <td>NaN</td>\n",
              "      <td>250000.0</td>\n",
              "      <td>https://img.a.transfermarkt.technology/portrai...</td>\n",
              "    </tr>\n",
              "    <tr>\n",
              "      <th>28459</th>\n",
              "      <td>221118</td>\n",
              "      <td>Patrick Friday Eze</td>\n",
              "      <td>2017</td>\n",
              "      <td>2293</td>\n",
              "      <td>Nigeria</td>\n",
              "      <td>1992-12-22</td>\n",
              "      <td>Centre-Forward</td>\n",
              "      <td>right</td>\n",
              "      <td>187.0</td>\n",
              "      <td>200000.0</td>\n",
              "      <td>775000.0</td>\n",
              "      <td>https://img.a.transfermarkt.technology/portrai...</td>\n",
              "    </tr>\n",
              "    <tr>\n",
              "      <th>28460</th>\n",
              "      <td>273053</td>\n",
              "      <td>Burak Saban</td>\n",
              "      <td>2018</td>\n",
              "      <td>2293</td>\n",
              "      <td>Netherlands</td>\n",
              "      <td>1994-04-20</td>\n",
              "      <td>Right Winger</td>\n",
              "      <td>both</td>\n",
              "      <td>177.0</td>\n",
              "      <td>NaN</td>\n",
              "      <td>200000.0</td>\n",
              "      <td>https://img.a.transfermarkt.technology/portrai...</td>\n",
              "    </tr>\n",
              "    <tr>\n",
              "      <th>28461</th>\n",
              "      <td>621911</td>\n",
              "      <td>Ekrem Kayilibal</td>\n",
              "      <td>2021</td>\n",
              "      <td>2293</td>\n",
              "      <td>Turkey</td>\n",
              "      <td>1999-09-22</td>\n",
              "      <td>Right Winger</td>\n",
              "      <td>both</td>\n",
              "      <td>176.0</td>\n",
              "      <td>50000.0</td>\n",
              "      <td>100000.0</td>\n",
              "      <td>https://img.a.transfermarkt.technology/portrai...</td>\n",
              "    </tr>\n",
              "  </tbody>\n",
              "</table>\n",
              "<p>28462 rows × 12 columns</p>\n",
              "</div>\n",
              "      <button class=\"colab-df-convert\" onclick=\"convertToInteractive('df-57fb77a4-f436-4844-8a1d-c7a19c783feb')\"\n",
              "              title=\"Convert this dataframe to an interactive table.\"\n",
              "              style=\"display:none;\">\n",
              "        \n",
              "  <svg xmlns=\"http://www.w3.org/2000/svg\" height=\"24px\"viewBox=\"0 0 24 24\"\n",
              "       width=\"24px\">\n",
              "    <path d=\"M0 0h24v24H0V0z\" fill=\"none\"/>\n",
              "    <path d=\"M18.56 5.44l.94 2.06.94-2.06 2.06-.94-2.06-.94-.94-2.06-.94 2.06-2.06.94zm-11 1L8.5 8.5l.94-2.06 2.06-.94-2.06-.94L8.5 2.5l-.94 2.06-2.06.94zm10 10l.94 2.06.94-2.06 2.06-.94-2.06-.94-.94-2.06-.94 2.06-2.06.94z\"/><path d=\"M17.41 7.96l-1.37-1.37c-.4-.4-.92-.59-1.43-.59-.52 0-1.04.2-1.43.59L10.3 9.45l-7.72 7.72c-.78.78-.78 2.05 0 2.83L4 21.41c.39.39.9.59 1.41.59.51 0 1.02-.2 1.41-.59l7.78-7.78 2.81-2.81c.8-.78.8-2.07 0-2.86zM5.41 20L4 18.59l7.72-7.72 1.47 1.35L5.41 20z\"/>\n",
              "  </svg>\n",
              "      </button>\n",
              "      \n",
              "  <style>\n",
              "    .colab-df-container {\n",
              "      display:flex;\n",
              "      flex-wrap:wrap;\n",
              "      gap: 12px;\n",
              "    }\n",
              "\n",
              "    .colab-df-convert {\n",
              "      background-color: #E8F0FE;\n",
              "      border: none;\n",
              "      border-radius: 50%;\n",
              "      cursor: pointer;\n",
              "      display: none;\n",
              "      fill: #1967D2;\n",
              "      height: 32px;\n",
              "      padding: 0 0 0 0;\n",
              "      width: 32px;\n",
              "    }\n",
              "\n",
              "    .colab-df-convert:hover {\n",
              "      background-color: #E2EBFA;\n",
              "      box-shadow: 0px 1px 2px rgba(60, 64, 67, 0.3), 0px 1px 3px 1px rgba(60, 64, 67, 0.15);\n",
              "      fill: #174EA6;\n",
              "    }\n",
              "\n",
              "    [theme=dark] .colab-df-convert {\n",
              "      background-color: #3B4455;\n",
              "      fill: #D2E3FC;\n",
              "    }\n",
              "\n",
              "    [theme=dark] .colab-df-convert:hover {\n",
              "      background-color: #434B5C;\n",
              "      box-shadow: 0px 1px 3px 1px rgba(0, 0, 0, 0.15);\n",
              "      filter: drop-shadow(0px 1px 2px rgba(0, 0, 0, 0.3));\n",
              "      fill: #FFFFFF;\n",
              "    }\n",
              "  </style>\n",
              "\n",
              "      <script>\n",
              "        const buttonEl =\n",
              "          document.querySelector('#df-57fb77a4-f436-4844-8a1d-c7a19c783feb button.colab-df-convert');\n",
              "        buttonEl.style.display =\n",
              "          google.colab.kernel.accessAllowed ? 'block' : 'none';\n",
              "\n",
              "        async function convertToInteractive(key) {\n",
              "          const element = document.querySelector('#df-57fb77a4-f436-4844-8a1d-c7a19c783feb');\n",
              "          const dataTable =\n",
              "            await google.colab.kernel.invokeFunction('convertToInteractive',\n",
              "                                                     [key], {});\n",
              "          if (!dataTable) return;\n",
              "\n",
              "          const docLinkHtml = 'Like what you see? Visit the ' +\n",
              "            '<a target=\"_blank\" href=https://colab.research.google.com/notebooks/data_table.ipynb>data table notebook</a>'\n",
              "            + ' to learn more about interactive tables.';\n",
              "          element.innerHTML = '';\n",
              "          dataTable['output_type'] = 'display_data';\n",
              "          await google.colab.output.renderOutput(dataTable, element);\n",
              "          const docLink = document.createElement('div');\n",
              "          docLink.innerHTML = docLinkHtml;\n",
              "          element.appendChild(docLink);\n",
              "        }\n",
              "      </script>\n",
              "    </div>\n",
              "  </div>\n",
              "  "
            ]
          },
          "metadata": {},
          "execution_count": 14
        }
      ]
    },
    {
      "cell_type": "markdown",
      "source": [
        "# Cleaning Clubs Dataset"
      ],
      "metadata": {
        "id": "Av28Z3PplgRI"
      }
    },
    {
      "cell_type": "code",
      "source": [
        "clubs_df = pd.read_csv(\"clubs.csv\")\n",
        "competitions_df = pd.read_csv(\"competitions.csv\")\n",
        "# Get the minimum and maximum values in a column\n",
        "column_min = clubs_df['club_id'].min()\n",
        "column_max = clubs_df['club_id'].max()\n",
        "\n",
        "# Print the range of values\n",
        "print(\"Range of values in 'column_name':\", column_min, \"to\", column_max)"
      ],
      "metadata": {
        "id": "klD2BYT4hLSz",
        "colab": {
          "base_uri": "https://localhost:8080/"
        },
        "outputId": "773f2b3c-35de-439f-bc13-ffe92666a62a"
      },
      "execution_count": null,
      "outputs": [
        {
          "output_type": "stream",
          "name": "stdout",
          "text": [
            "Range of values in 'column_name': 3 to 83678\n"
          ]
        }
      ]
    },
    {
      "cell_type": "code",
      "source": [
        "clubs_df.columns"
      ],
      "metadata": {
        "colab": {
          "base_uri": "https://localhost:8080/"
        },
        "id": "yTCYrT5_iHdQ",
        "outputId": "9cea3cb8-4363-47df-a16b-fc5127d9b20d"
      },
      "execution_count": null,
      "outputs": [
        {
          "output_type": "execute_result",
          "data": {
            "text/plain": [
              "Index(['club_id', 'club_code', 'name', 'domestic_competition_id',\n",
              "       'total_market_value', 'squad_size', 'average_age', 'foreigners_number',\n",
              "       'foreigners_percentage', 'national_team_players', 'stadium_name',\n",
              "       'stadium_seats', 'net_transfer_record', 'coach_name', 'last_season',\n",
              "       'url'],\n",
              "      dtype='object')"
            ]
          },
          "metadata": {},
          "execution_count": 33
        }
      ]
    },
    {
      "cell_type": "code",
      "source": [
        "clubs_df = clubs_df.drop(columns=[\"club_code\", \"total_market_value\", \"coach_name\", \"last_season\", \"foreigners_number\", \"net_transfer_record\", \"url\"])\n"
      ],
      "metadata": {
        "id": "lU0Ot9vLijs5"
      },
      "execution_count": null,
      "outputs": []
    },
    {
      "cell_type": "code",
      "source": [
        "clubs_df = clubs_df.rename(columns={\"name\": \"club_name\"})\n",
        "len(clubs_df.index) # pre-drop"
      ],
      "metadata": {
        "colab": {
          "base_uri": "https://localhost:8080/"
        },
        "id": "sxFwwVD_jW6D",
        "outputId": "4ad373e0-5d58-45c5-ba66-e7814d822060"
      },
      "execution_count": null,
      "outputs": [
        {
          "output_type": "execute_result",
          "data": {
            "text/plain": [
              "411"
            ]
          },
          "metadata": {},
          "execution_count": 35
        }
      ]
    },
    {
      "cell_type": "code",
      "source": [
        "clubs_df = clubs_df.dropna(subset=[\"club_id\", \"club_name\"])\n",
        "clubs_df = clubs_df.merge(competitions_df[['competition_id', 'name']], \n",
        "                           left_on='domestic_competition_id',\n",
        "                           right_on='competition_id',\n",
        "                           how='left')\n",
        "\n",
        "clubs_df = clubs_df.drop(['domestic_competition_id', 'competition_id'], axis=1)\n",
        "clubs_df = clubs_df.rename(columns={'name': 'domestic_competition'})\n",
        "\n",
        "len(clubs_df.index) # post-drop, no null values for core attributes"
      ],
      "metadata": {
        "colab": {
          "base_uri": "https://localhost:8080/"
        },
        "id": "5dKjBH_2k_AB",
        "outputId": "ba7a4fd5-7b09-41b7-80a0-f899829f89d3"
      },
      "execution_count": null,
      "outputs": [
        {
          "output_type": "execute_result",
          "data": {
            "text/plain": [
              "411"
            ]
          },
          "metadata": {},
          "execution_count": 36
        }
      ]
    },
    {
      "cell_type": "code",
      "source": [
        "clubs_df = clubs_df.sort_values('club_id')\n",
        "clubs_df"
      ],
      "metadata": {
        "colab": {
          "base_uri": "https://localhost:8080/",
          "height": 574
        },
        "id": "BlTuz_mSjTlq",
        "outputId": "10f31867-711c-42ff-b832-55b3c97be336"
      },
      "execution_count": null,
      "outputs": [
        {
          "output_type": "execute_result",
          "data": {
            "text/plain": [
              "     club_id          club_name  squad_size  average_age  \\\n",
              "167        3          1.FC Köln          34         24.7   \n",
              "380        4     1.FC Nuremberg          33         25.2   \n",
              "311        5           AC Milan          30         27.0   \n",
              "49         6          Adanaspor          10         23.9   \n",
              "234       10  Arminia Bielefeld          27         25.3   \n",
              "..       ...                ...         ...          ...   \n",
              "152    60551        SK Dnipro-1          29         26.0   \n",
              "282    60949          Volos NPS          26         26.4   \n",
              "337    61825           FK Minaj          25         26.0   \n",
              "229    68608   CF Os Belenenses          30         25.7   \n",
              "387    83678   Metalist Kharkiv          26         25.4   \n",
              "\n",
              "     foreigners_percentage  national_team_players          stadium_name  \\\n",
              "167                   32.4                      7   RheinEnergieSTADION   \n",
              "380                   21.2                      2   Max-Morlock-Stadion   \n",
              "311                   80.0                     19       Giuseppe Meazza   \n",
              "49                    40.0                      0   Yeni Adana Stadyumu   \n",
              "234                   55.6                      4           SchücoArena   \n",
              "..                     ...                    ...                   ...   \n",
              "152                   31.0                      6              Avangard   \n",
              "282                   61.5                      2  Panthessaliko Stadio   \n",
              "337                    4.0                      0         Stadion Minaj   \n",
              "229                   16.7                      0    Estádio do Restelo   \n",
              "387                   15.4                      0              Avangard   \n",
              "\n",
              "     stadium_seats domestic_competition  \n",
              "167          50000           bundesliga  \n",
              "380          50000           bundesliga  \n",
              "311          75923              serie-a  \n",
              "49           33000            super-lig  \n",
              "234          26515           bundesliga  \n",
              "..             ...                  ...  \n",
              "152          10640         premier-liga  \n",
              "282          22700       super-league-1  \n",
              "337           2000         premier-liga  \n",
              "229          19980   liga-portugal-bwin  \n",
              "387          10640         premier-liga  \n",
              "\n",
              "[411 rows x 9 columns]"
            ],
            "text/html": [
              "\n",
              "  <div id=\"df-76988436-caed-4bdb-9d0c-94dd1ee6d4cb\">\n",
              "    <div class=\"colab-df-container\">\n",
              "      <div>\n",
              "<style scoped>\n",
              "    .dataframe tbody tr th:only-of-type {\n",
              "        vertical-align: middle;\n",
              "    }\n",
              "\n",
              "    .dataframe tbody tr th {\n",
              "        vertical-align: top;\n",
              "    }\n",
              "\n",
              "    .dataframe thead th {\n",
              "        text-align: right;\n",
              "    }\n",
              "</style>\n",
              "<table border=\"1\" class=\"dataframe\">\n",
              "  <thead>\n",
              "    <tr style=\"text-align: right;\">\n",
              "      <th></th>\n",
              "      <th>club_id</th>\n",
              "      <th>club_name</th>\n",
              "      <th>squad_size</th>\n",
              "      <th>average_age</th>\n",
              "      <th>foreigners_percentage</th>\n",
              "      <th>national_team_players</th>\n",
              "      <th>stadium_name</th>\n",
              "      <th>stadium_seats</th>\n",
              "      <th>domestic_competition</th>\n",
              "    </tr>\n",
              "  </thead>\n",
              "  <tbody>\n",
              "    <tr>\n",
              "      <th>167</th>\n",
              "      <td>3</td>\n",
              "      <td>1.FC Köln</td>\n",
              "      <td>34</td>\n",
              "      <td>24.7</td>\n",
              "      <td>32.4</td>\n",
              "      <td>7</td>\n",
              "      <td>RheinEnergieSTADION</td>\n",
              "      <td>50000</td>\n",
              "      <td>bundesliga</td>\n",
              "    </tr>\n",
              "    <tr>\n",
              "      <th>380</th>\n",
              "      <td>4</td>\n",
              "      <td>1.FC Nuremberg</td>\n",
              "      <td>33</td>\n",
              "      <td>25.2</td>\n",
              "      <td>21.2</td>\n",
              "      <td>2</td>\n",
              "      <td>Max-Morlock-Stadion</td>\n",
              "      <td>50000</td>\n",
              "      <td>bundesliga</td>\n",
              "    </tr>\n",
              "    <tr>\n",
              "      <th>311</th>\n",
              "      <td>5</td>\n",
              "      <td>AC Milan</td>\n",
              "      <td>30</td>\n",
              "      <td>27.0</td>\n",
              "      <td>80.0</td>\n",
              "      <td>19</td>\n",
              "      <td>Giuseppe Meazza</td>\n",
              "      <td>75923</td>\n",
              "      <td>serie-a</td>\n",
              "    </tr>\n",
              "    <tr>\n",
              "      <th>49</th>\n",
              "      <td>6</td>\n",
              "      <td>Adanaspor</td>\n",
              "      <td>10</td>\n",
              "      <td>23.9</td>\n",
              "      <td>40.0</td>\n",
              "      <td>0</td>\n",
              "      <td>Yeni Adana Stadyumu</td>\n",
              "      <td>33000</td>\n",
              "      <td>super-lig</td>\n",
              "    </tr>\n",
              "    <tr>\n",
              "      <th>234</th>\n",
              "      <td>10</td>\n",
              "      <td>Arminia Bielefeld</td>\n",
              "      <td>27</td>\n",
              "      <td>25.3</td>\n",
              "      <td>55.6</td>\n",
              "      <td>4</td>\n",
              "      <td>SchücoArena</td>\n",
              "      <td>26515</td>\n",
              "      <td>bundesliga</td>\n",
              "    </tr>\n",
              "    <tr>\n",
              "      <th>...</th>\n",
              "      <td>...</td>\n",
              "      <td>...</td>\n",
              "      <td>...</td>\n",
              "      <td>...</td>\n",
              "      <td>...</td>\n",
              "      <td>...</td>\n",
              "      <td>...</td>\n",
              "      <td>...</td>\n",
              "      <td>...</td>\n",
              "    </tr>\n",
              "    <tr>\n",
              "      <th>152</th>\n",
              "      <td>60551</td>\n",
              "      <td>SK Dnipro-1</td>\n",
              "      <td>29</td>\n",
              "      <td>26.0</td>\n",
              "      <td>31.0</td>\n",
              "      <td>6</td>\n",
              "      <td>Avangard</td>\n",
              "      <td>10640</td>\n",
              "      <td>premier-liga</td>\n",
              "    </tr>\n",
              "    <tr>\n",
              "      <th>282</th>\n",
              "      <td>60949</td>\n",
              "      <td>Volos NPS</td>\n",
              "      <td>26</td>\n",
              "      <td>26.4</td>\n",
              "      <td>61.5</td>\n",
              "      <td>2</td>\n",
              "      <td>Panthessaliko Stadio</td>\n",
              "      <td>22700</td>\n",
              "      <td>super-league-1</td>\n",
              "    </tr>\n",
              "    <tr>\n",
              "      <th>337</th>\n",
              "      <td>61825</td>\n",
              "      <td>FK Minaj</td>\n",
              "      <td>25</td>\n",
              "      <td>26.0</td>\n",
              "      <td>4.0</td>\n",
              "      <td>0</td>\n",
              "      <td>Stadion Minaj</td>\n",
              "      <td>2000</td>\n",
              "      <td>premier-liga</td>\n",
              "    </tr>\n",
              "    <tr>\n",
              "      <th>229</th>\n",
              "      <td>68608</td>\n",
              "      <td>CF Os Belenenses</td>\n",
              "      <td>30</td>\n",
              "      <td>25.7</td>\n",
              "      <td>16.7</td>\n",
              "      <td>0</td>\n",
              "      <td>Estádio do Restelo</td>\n",
              "      <td>19980</td>\n",
              "      <td>liga-portugal-bwin</td>\n",
              "    </tr>\n",
              "    <tr>\n",
              "      <th>387</th>\n",
              "      <td>83678</td>\n",
              "      <td>Metalist Kharkiv</td>\n",
              "      <td>26</td>\n",
              "      <td>25.4</td>\n",
              "      <td>15.4</td>\n",
              "      <td>0</td>\n",
              "      <td>Avangard</td>\n",
              "      <td>10640</td>\n",
              "      <td>premier-liga</td>\n",
              "    </tr>\n",
              "  </tbody>\n",
              "</table>\n",
              "<p>411 rows × 9 columns</p>\n",
              "</div>\n",
              "      <button class=\"colab-df-convert\" onclick=\"convertToInteractive('df-76988436-caed-4bdb-9d0c-94dd1ee6d4cb')\"\n",
              "              title=\"Convert this dataframe to an interactive table.\"\n",
              "              style=\"display:none;\">\n",
              "        \n",
              "  <svg xmlns=\"http://www.w3.org/2000/svg\" height=\"24px\"viewBox=\"0 0 24 24\"\n",
              "       width=\"24px\">\n",
              "    <path d=\"M0 0h24v24H0V0z\" fill=\"none\"/>\n",
              "    <path d=\"M18.56 5.44l.94 2.06.94-2.06 2.06-.94-2.06-.94-.94-2.06-.94 2.06-2.06.94zm-11 1L8.5 8.5l.94-2.06 2.06-.94-2.06-.94L8.5 2.5l-.94 2.06-2.06.94zm10 10l.94 2.06.94-2.06 2.06-.94-2.06-.94-.94-2.06-.94 2.06-2.06.94z\"/><path d=\"M17.41 7.96l-1.37-1.37c-.4-.4-.92-.59-1.43-.59-.52 0-1.04.2-1.43.59L10.3 9.45l-7.72 7.72c-.78.78-.78 2.05 0 2.83L4 21.41c.39.39.9.59 1.41.59.51 0 1.02-.2 1.41-.59l7.78-7.78 2.81-2.81c.8-.78.8-2.07 0-2.86zM5.41 20L4 18.59l7.72-7.72 1.47 1.35L5.41 20z\"/>\n",
              "  </svg>\n",
              "      </button>\n",
              "      \n",
              "  <style>\n",
              "    .colab-df-container {\n",
              "      display:flex;\n",
              "      flex-wrap:wrap;\n",
              "      gap: 12px;\n",
              "    }\n",
              "\n",
              "    .colab-df-convert {\n",
              "      background-color: #E8F0FE;\n",
              "      border: none;\n",
              "      border-radius: 50%;\n",
              "      cursor: pointer;\n",
              "      display: none;\n",
              "      fill: #1967D2;\n",
              "      height: 32px;\n",
              "      padding: 0 0 0 0;\n",
              "      width: 32px;\n",
              "    }\n",
              "\n",
              "    .colab-df-convert:hover {\n",
              "      background-color: #E2EBFA;\n",
              "      box-shadow: 0px 1px 2px rgba(60, 64, 67, 0.3), 0px 1px 3px 1px rgba(60, 64, 67, 0.15);\n",
              "      fill: #174EA6;\n",
              "    }\n",
              "\n",
              "    [theme=dark] .colab-df-convert {\n",
              "      background-color: #3B4455;\n",
              "      fill: #D2E3FC;\n",
              "    }\n",
              "\n",
              "    [theme=dark] .colab-df-convert:hover {\n",
              "      background-color: #434B5C;\n",
              "      box-shadow: 0px 1px 3px 1px rgba(0, 0, 0, 0.15);\n",
              "      filter: drop-shadow(0px 1px 2px rgba(0, 0, 0, 0.3));\n",
              "      fill: #FFFFFF;\n",
              "    }\n",
              "  </style>\n",
              "\n",
              "      <script>\n",
              "        const buttonEl =\n",
              "          document.querySelector('#df-76988436-caed-4bdb-9d0c-94dd1ee6d4cb button.colab-df-convert');\n",
              "        buttonEl.style.display =\n",
              "          google.colab.kernel.accessAllowed ? 'block' : 'none';\n",
              "\n",
              "        async function convertToInteractive(key) {\n",
              "          const element = document.querySelector('#df-76988436-caed-4bdb-9d0c-94dd1ee6d4cb');\n",
              "          const dataTable =\n",
              "            await google.colab.kernel.invokeFunction('convertToInteractive',\n",
              "                                                     [key], {});\n",
              "          if (!dataTable) return;\n",
              "\n",
              "          const docLinkHtml = 'Like what you see? Visit the ' +\n",
              "            '<a target=\"_blank\" href=https://colab.research.google.com/notebooks/data_table.ipynb>data table notebook</a>'\n",
              "            + ' to learn more about interactive tables.';\n",
              "          element.innerHTML = '';\n",
              "          dataTable['output_type'] = 'display_data';\n",
              "          await google.colab.output.renderOutput(dataTable, element);\n",
              "          const docLink = document.createElement('div');\n",
              "          docLink.innerHTML = docLinkHtml;\n",
              "          element.appendChild(docLink);\n",
              "        }\n",
              "      </script>\n",
              "    </div>\n",
              "  </div>\n",
              "  "
            ]
          },
          "metadata": {},
          "execution_count": 41
        }
      ]
    },
    {
      "cell_type": "markdown",
      "source": [
        "# Cleaning Games Dataset"
      ],
      "metadata": {
        "id": "mCY3Ngttli8y"
      }
    },
    {
      "cell_type": "code",
      "source": [
        "games_df = pd.read_csv(\"games.csv\")\n",
        "# Get the minimum and maximum values in a column\n",
        "column_min = games_df['home_club_id'].min()\n",
        "column_max = games_df['home_club_id'].max()\n",
        "\n",
        "# Print the range of values\n",
        "print(\"Range of values in 'column_name':\", column_min, \"to\", column_max)"
      ],
      "metadata": {
        "id": "wIuX-Q9bk19x",
        "colab": {
          "base_uri": "https://localhost:8080/"
        },
        "outputId": "77c6f256-8217-4c57-9793-1615371e2f63"
      },
      "execution_count": null,
      "outputs": [
        {
          "output_type": "stream",
          "name": "stdout",
          "text": [
            "Range of values in 'column_name': 1 to 102251\n"
          ]
        }
      ]
    },
    {
      "cell_type": "code",
      "source": [
        "games_df.columns"
      ],
      "metadata": {
        "colab": {
          "base_uri": "https://localhost:8080/"
        },
        "id": "lxijTFhVmP0d",
        "outputId": "d36c239c-0c1a-4bc7-a340-fa6f1f680f55"
      },
      "execution_count": null,
      "outputs": [
        {
          "output_type": "execute_result",
          "data": {
            "text/plain": [
              "Index(['game_id', 'competition_id', 'season', 'round', 'date', 'home_club_id',\n",
              "       'away_club_id', 'home_club_goals', 'away_club_goals',\n",
              "       'home_club_position', 'away_club_position', 'home_club_manager_name',\n",
              "       'away_club_manager_name', 'stadium', 'attendance', 'referee', 'url',\n",
              "       'home_club_name', 'away_club_name', 'aggregate', 'competition_type'],\n",
              "      dtype='object')"
            ]
          },
          "metadata": {},
          "execution_count": 22
        }
      ]
    },
    {
      "cell_type": "code",
      "source": [
        "games_df = games_df.drop(columns=[\"competition_type\", \"home_club_position\", \"away_club_position\", \"home_club_name\", \"away_club_name\",\n",
        "       \"home_club_manager_name\", \"away_club_manager_name\", \"attendance\", \"referee\", \"url\", \"aggregate\"])\n",
        "len(games_df) # pre-drop"
      ],
      "metadata": {
        "colab": {
          "base_uri": "https://localhost:8080/"
        },
        "id": "jP481qeLmRwf",
        "outputId": "6dce0067-c0e3-40a9-c954-bc679ac2ae77"
      },
      "execution_count": null,
      "outputs": [
        {
          "output_type": "execute_result",
          "data": {
            "text/plain": [
              "62079"
            ]
          },
          "metadata": {},
          "execution_count": 23
        }
      ]
    },
    {
      "cell_type": "code",
      "source": [
        "games_df = games_df.dropna(subset=[\"game_id\", \"home_club_id\", \"away_club_id\", \"date\", \"round\"])\n",
        "games_df = games_df.rename(columns={\"date\": \"game_date\"})\n",
        "# Replace non-finite values with a default value (e.g., 0)\n",
        "games_df['home_club_goals'] = games_df['home_club_goals'].fillna(0)\n",
        "games_df['away_club_goals'] = games_df['away_club_goals'].fillna(0)\n",
        "\n",
        "# Convert the columns to integers\n",
        "games_df['home_club_goals'] = games_df['home_club_goals'].astype(int)\n",
        "games_df['away_club_goals'] = games_df['away_club_goals'].astype(int)\n",
        "\n",
        "len(games_df) # post-drop, no null values for core attributes"
      ],
      "metadata": {
        "colab": {
          "base_uri": "https://localhost:8080/"
        },
        "id": "70vkNJqbm1C4",
        "outputId": "4767e066-09c8-4c28-a270-789f1ea995c8"
      },
      "execution_count": null,
      "outputs": [
        {
          "output_type": "execute_result",
          "data": {
            "text/plain": [
              "62079"
            ]
          },
          "metadata": {},
          "execution_count": 24
        }
      ]
    },
    {
      "cell_type": "code",
      "source": [
        "games_df"
      ],
      "metadata": {
        "colab": {
          "base_uri": "https://localhost:8080/",
          "height": 467
        },
        "id": "BlADGy9Bn0Bk",
        "outputId": "25ff9c6c-b2a2-4432-9580-54746f25c931"
      },
      "execution_count": null,
      "outputs": [
        {
          "output_type": "execute_result",
          "data": {
            "text/plain": [
              "       game_id competition_id  season        round   game_date  home_club_id  \\\n",
              "0      2222539             L1    2012  1. Matchday  2012-08-25            60   \n",
              "1      2222541             L1    2012  1. Matchday  2012-08-25            41   \n",
              "2      2222542             L1    2012  1. Matchday  2012-08-25            24   \n",
              "3      2222595            RU1    2012  3. Matchday  2012-08-05          2700   \n",
              "4      2222636            RU1    2012  4. Matchday  2012-08-12          1083   \n",
              "...        ...            ...     ...          ...         ...           ...   \n",
              "62074  3912539             EL    2022      Group A  2022-09-08           383   \n",
              "62075  2629035            NLP    2015  Third Round  2015-10-27           383   \n",
              "62076  3097403            NLP    2018  First Round  2018-09-27           200   \n",
              "62077  3252469             EL    2019      Group D  2019-10-24           383   \n",
              "62078  3641292            CIT    2021  First Round  2021-08-16          1025   \n",
              "\n",
              "       away_club_id  home_club_goals  away_club_goals                 stadium  \n",
              "0                39                1                1          Dreisamstadion  \n",
              "1                 4                0                1        Volksparkstadion  \n",
              "2                15                2                1       Commerzbank Arena  \n",
              "3              4128                1                0                  Dinamo  \n",
              "4              2696                1                2                 Olimp-2  \n",
              "...             ...              ...              ...                     ...  \n",
              "62074           501                1                1         Philips Stadion  \n",
              "62075         16866                6                0         Philips Stadion  \n",
              "62076           384                2                0   Stadion \"Galgenwaard\"  \n",
              "62077           413                0                0         Philips Stadion  \n",
              "62078          1103                4                5  Stadio Renato Dall’Ara  \n",
              "\n",
              "[62079 rows x 10 columns]"
            ],
            "text/html": [
              "\n",
              "  <div id=\"df-3354bf5e-b048-4cc3-9e80-ccdc62728a8a\">\n",
              "    <div class=\"colab-df-container\">\n",
              "      <div>\n",
              "<style scoped>\n",
              "    .dataframe tbody tr th:only-of-type {\n",
              "        vertical-align: middle;\n",
              "    }\n",
              "\n",
              "    .dataframe tbody tr th {\n",
              "        vertical-align: top;\n",
              "    }\n",
              "\n",
              "    .dataframe thead th {\n",
              "        text-align: right;\n",
              "    }\n",
              "</style>\n",
              "<table border=\"1\" class=\"dataframe\">\n",
              "  <thead>\n",
              "    <tr style=\"text-align: right;\">\n",
              "      <th></th>\n",
              "      <th>game_id</th>\n",
              "      <th>competition_id</th>\n",
              "      <th>season</th>\n",
              "      <th>round</th>\n",
              "      <th>game_date</th>\n",
              "      <th>home_club_id</th>\n",
              "      <th>away_club_id</th>\n",
              "      <th>home_club_goals</th>\n",
              "      <th>away_club_goals</th>\n",
              "      <th>stadium</th>\n",
              "    </tr>\n",
              "  </thead>\n",
              "  <tbody>\n",
              "    <tr>\n",
              "      <th>0</th>\n",
              "      <td>2222539</td>\n",
              "      <td>L1</td>\n",
              "      <td>2012</td>\n",
              "      <td>1. Matchday</td>\n",
              "      <td>2012-08-25</td>\n",
              "      <td>60</td>\n",
              "      <td>39</td>\n",
              "      <td>1</td>\n",
              "      <td>1</td>\n",
              "      <td>Dreisamstadion</td>\n",
              "    </tr>\n",
              "    <tr>\n",
              "      <th>1</th>\n",
              "      <td>2222541</td>\n",
              "      <td>L1</td>\n",
              "      <td>2012</td>\n",
              "      <td>1. Matchday</td>\n",
              "      <td>2012-08-25</td>\n",
              "      <td>41</td>\n",
              "      <td>4</td>\n",
              "      <td>0</td>\n",
              "      <td>1</td>\n",
              "      <td>Volksparkstadion</td>\n",
              "    </tr>\n",
              "    <tr>\n",
              "      <th>2</th>\n",
              "      <td>2222542</td>\n",
              "      <td>L1</td>\n",
              "      <td>2012</td>\n",
              "      <td>1. Matchday</td>\n",
              "      <td>2012-08-25</td>\n",
              "      <td>24</td>\n",
              "      <td>15</td>\n",
              "      <td>2</td>\n",
              "      <td>1</td>\n",
              "      <td>Commerzbank Arena</td>\n",
              "    </tr>\n",
              "    <tr>\n",
              "      <th>3</th>\n",
              "      <td>2222595</td>\n",
              "      <td>RU1</td>\n",
              "      <td>2012</td>\n",
              "      <td>3. Matchday</td>\n",
              "      <td>2012-08-05</td>\n",
              "      <td>2700</td>\n",
              "      <td>4128</td>\n",
              "      <td>1</td>\n",
              "      <td>0</td>\n",
              "      <td>Dinamo</td>\n",
              "    </tr>\n",
              "    <tr>\n",
              "      <th>4</th>\n",
              "      <td>2222636</td>\n",
              "      <td>RU1</td>\n",
              "      <td>2012</td>\n",
              "      <td>4. Matchday</td>\n",
              "      <td>2012-08-12</td>\n",
              "      <td>1083</td>\n",
              "      <td>2696</td>\n",
              "      <td>1</td>\n",
              "      <td>2</td>\n",
              "      <td>Olimp-2</td>\n",
              "    </tr>\n",
              "    <tr>\n",
              "      <th>...</th>\n",
              "      <td>...</td>\n",
              "      <td>...</td>\n",
              "      <td>...</td>\n",
              "      <td>...</td>\n",
              "      <td>...</td>\n",
              "      <td>...</td>\n",
              "      <td>...</td>\n",
              "      <td>...</td>\n",
              "      <td>...</td>\n",
              "      <td>...</td>\n",
              "    </tr>\n",
              "    <tr>\n",
              "      <th>62074</th>\n",
              "      <td>3912539</td>\n",
              "      <td>EL</td>\n",
              "      <td>2022</td>\n",
              "      <td>Group A</td>\n",
              "      <td>2022-09-08</td>\n",
              "      <td>383</td>\n",
              "      <td>501</td>\n",
              "      <td>1</td>\n",
              "      <td>1</td>\n",
              "      <td>Philips Stadion</td>\n",
              "    </tr>\n",
              "    <tr>\n",
              "      <th>62075</th>\n",
              "      <td>2629035</td>\n",
              "      <td>NLP</td>\n",
              "      <td>2015</td>\n",
              "      <td>Third Round</td>\n",
              "      <td>2015-10-27</td>\n",
              "      <td>383</td>\n",
              "      <td>16866</td>\n",
              "      <td>6</td>\n",
              "      <td>0</td>\n",
              "      <td>Philips Stadion</td>\n",
              "    </tr>\n",
              "    <tr>\n",
              "      <th>62076</th>\n",
              "      <td>3097403</td>\n",
              "      <td>NLP</td>\n",
              "      <td>2018</td>\n",
              "      <td>First Round</td>\n",
              "      <td>2018-09-27</td>\n",
              "      <td>200</td>\n",
              "      <td>384</td>\n",
              "      <td>2</td>\n",
              "      <td>0</td>\n",
              "      <td>Stadion \"Galgenwaard\"</td>\n",
              "    </tr>\n",
              "    <tr>\n",
              "      <th>62077</th>\n",
              "      <td>3252469</td>\n",
              "      <td>EL</td>\n",
              "      <td>2019</td>\n",
              "      <td>Group D</td>\n",
              "      <td>2019-10-24</td>\n",
              "      <td>383</td>\n",
              "      <td>413</td>\n",
              "      <td>0</td>\n",
              "      <td>0</td>\n",
              "      <td>Philips Stadion</td>\n",
              "    </tr>\n",
              "    <tr>\n",
              "      <th>62078</th>\n",
              "      <td>3641292</td>\n",
              "      <td>CIT</td>\n",
              "      <td>2021</td>\n",
              "      <td>First Round</td>\n",
              "      <td>2021-08-16</td>\n",
              "      <td>1025</td>\n",
              "      <td>1103</td>\n",
              "      <td>4</td>\n",
              "      <td>5</td>\n",
              "      <td>Stadio Renato Dall’Ara</td>\n",
              "    </tr>\n",
              "  </tbody>\n",
              "</table>\n",
              "<p>62079 rows × 10 columns</p>\n",
              "</div>\n",
              "      <button class=\"colab-df-convert\" onclick=\"convertToInteractive('df-3354bf5e-b048-4cc3-9e80-ccdc62728a8a')\"\n",
              "              title=\"Convert this dataframe to an interactive table.\"\n",
              "              style=\"display:none;\">\n",
              "        \n",
              "  <svg xmlns=\"http://www.w3.org/2000/svg\" height=\"24px\"viewBox=\"0 0 24 24\"\n",
              "       width=\"24px\">\n",
              "    <path d=\"M0 0h24v24H0V0z\" fill=\"none\"/>\n",
              "    <path d=\"M18.56 5.44l.94 2.06.94-2.06 2.06-.94-2.06-.94-.94-2.06-.94 2.06-2.06.94zm-11 1L8.5 8.5l.94-2.06 2.06-.94-2.06-.94L8.5 2.5l-.94 2.06-2.06.94zm10 10l.94 2.06.94-2.06 2.06-.94-2.06-.94-.94-2.06-.94 2.06-2.06.94z\"/><path d=\"M17.41 7.96l-1.37-1.37c-.4-.4-.92-.59-1.43-.59-.52 0-1.04.2-1.43.59L10.3 9.45l-7.72 7.72c-.78.78-.78 2.05 0 2.83L4 21.41c.39.39.9.59 1.41.59.51 0 1.02-.2 1.41-.59l7.78-7.78 2.81-2.81c.8-.78.8-2.07 0-2.86zM5.41 20L4 18.59l7.72-7.72 1.47 1.35L5.41 20z\"/>\n",
              "  </svg>\n",
              "      </button>\n",
              "      \n",
              "  <style>\n",
              "    .colab-df-container {\n",
              "      display:flex;\n",
              "      flex-wrap:wrap;\n",
              "      gap: 12px;\n",
              "    }\n",
              "\n",
              "    .colab-df-convert {\n",
              "      background-color: #E8F0FE;\n",
              "      border: none;\n",
              "      border-radius: 50%;\n",
              "      cursor: pointer;\n",
              "      display: none;\n",
              "      fill: #1967D2;\n",
              "      height: 32px;\n",
              "      padding: 0 0 0 0;\n",
              "      width: 32px;\n",
              "    }\n",
              "\n",
              "    .colab-df-convert:hover {\n",
              "      background-color: #E2EBFA;\n",
              "      box-shadow: 0px 1px 2px rgba(60, 64, 67, 0.3), 0px 1px 3px 1px rgba(60, 64, 67, 0.15);\n",
              "      fill: #174EA6;\n",
              "    }\n",
              "\n",
              "    [theme=dark] .colab-df-convert {\n",
              "      background-color: #3B4455;\n",
              "      fill: #D2E3FC;\n",
              "    }\n",
              "\n",
              "    [theme=dark] .colab-df-convert:hover {\n",
              "      background-color: #434B5C;\n",
              "      box-shadow: 0px 1px 3px 1px rgba(0, 0, 0, 0.15);\n",
              "      filter: drop-shadow(0px 1px 2px rgba(0, 0, 0, 0.3));\n",
              "      fill: #FFFFFF;\n",
              "    }\n",
              "  </style>\n",
              "\n",
              "      <script>\n",
              "        const buttonEl =\n",
              "          document.querySelector('#df-3354bf5e-b048-4cc3-9e80-ccdc62728a8a button.colab-df-convert');\n",
              "        buttonEl.style.display =\n",
              "          google.colab.kernel.accessAllowed ? 'block' : 'none';\n",
              "\n",
              "        async function convertToInteractive(key) {\n",
              "          const element = document.querySelector('#df-3354bf5e-b048-4cc3-9e80-ccdc62728a8a');\n",
              "          const dataTable =\n",
              "            await google.colab.kernel.invokeFunction('convertToInteractive',\n",
              "                                                     [key], {});\n",
              "          if (!dataTable) return;\n",
              "\n",
              "          const docLinkHtml = 'Like what you see? Visit the ' +\n",
              "            '<a target=\"_blank\" href=https://colab.research.google.com/notebooks/data_table.ipynb>data table notebook</a>'\n",
              "            + ' to learn more about interactive tables.';\n",
              "          element.innerHTML = '';\n",
              "          dataTable['output_type'] = 'display_data';\n",
              "          await google.colab.output.renderOutput(dataTable, element);\n",
              "          const docLink = document.createElement('div');\n",
              "          docLink.innerHTML = docLinkHtml;\n",
              "          element.appendChild(docLink);\n",
              "        }\n",
              "      </script>\n",
              "    </div>\n",
              "  </div>\n",
              "  "
            ]
          },
          "metadata": {},
          "execution_count": 25
        }
      ]
    },
    {
      "cell_type": "markdown",
      "source": [
        "# Cleaning Appearances Dataset"
      ],
      "metadata": {
        "id": "kgepfoBDo91x"
      }
    },
    {
      "cell_type": "code",
      "source": [
        "appearances_df = pd.read_csv(\"appearances.csv\")"
      ],
      "metadata": {
        "id": "QNNpjF4PpCoB"
      },
      "execution_count": null,
      "outputs": []
    },
    {
      "cell_type": "code",
      "source": [
        "appearances_df.columns"
      ],
      "metadata": {
        "colab": {
          "base_uri": "https://localhost:8080/"
        },
        "id": "hWeAQYsmpZqT",
        "outputId": "a7f1f25f-f484-4462-9f49-28a28cf69b13"
      },
      "execution_count": null,
      "outputs": [
        {
          "output_type": "execute_result",
          "data": {
            "text/plain": [
              "Index(['appearance_id', 'game_id', 'player_id', 'player_club_id',\n",
              "       'player_current_club_id', 'date', 'player_name', 'competition_id',\n",
              "       'yellow_cards', 'red_cards', 'goals', 'assists', 'minutes_played'],\n",
              "      dtype='object')"
            ]
          },
          "metadata": {},
          "execution_count": 27
        }
      ]
    },
    {
      "cell_type": "code",
      "source": [
        "appearances_df = appearances_df.drop(columns=[\"date\", \"appearance_id\", \"player_name\", \"player_current_club_id\", \"competition_id\"])\n",
        "len(appearances_df) # pre-drop"
      ],
      "metadata": {
        "colab": {
          "base_uri": "https://localhost:8080/"
        },
        "id": "Z540Yt65pcuM",
        "outputId": "f20c132d-9846-40a8-9279-83f0082b0a1e"
      },
      "execution_count": null,
      "outputs": [
        {
          "output_type": "execute_result",
          "data": {
            "text/plain": [
              "1170381"
            ]
          },
          "metadata": {},
          "execution_count": 28
        }
      ]
    },
    {
      "cell_type": "code",
      "source": [
        "appearances_df = appearances_df.dropna(subset=[\"game_id\", \"player_id\", \"player_club_id\"])\n",
        "len(appearances_df) # post-drop, some null values for core attributes"
      ],
      "metadata": {
        "colab": {
          "base_uri": "https://localhost:8080/"
        },
        "id": "iOfa7cFBqFjo",
        "outputId": "dac23524-1935-427f-8284-0e8c756f6340"
      },
      "execution_count": null,
      "outputs": [
        {
          "output_type": "execute_result",
          "data": {
            "text/plain": [
              "1170381"
            ]
          },
          "metadata": {},
          "execution_count": 29
        }
      ]
    },
    {
      "cell_type": "code",
      "source": [
        "appearances_df"
      ],
      "metadata": {
        "id": "nO7V6KoNH5P3",
        "outputId": "5d19309d-3216-49e2-81a1-236ab57a48e7",
        "colab": {
          "base_uri": "https://localhost:8080/",
          "height": 423
        }
      },
      "execution_count": null,
      "outputs": [
        {
          "output_type": "execute_result",
          "data": {
            "text/plain": [
              "         game_id  player_id  player_club_id  yellow_cards  red_cards  goals  \\\n",
              "0        2460589     237947           11411             0          0      0   \n",
              "1        2460503     150846            4807             0          0      0   \n",
              "2        2460507     136142             271             0          0      0   \n",
              "3        2460508     153735           18506             0          0      1   \n",
              "4        2460509      27017           10482             0          0      0   \n",
              "...          ...        ...             ...           ...        ...    ...   \n",
              "1170376  4056369      74081           41231             0          0      0   \n",
              "1170377  4056369     793509           49702             0          0      0   \n",
              "1170378  4056369     810570           41231             0          0      0   \n",
              "1170379  4056369     951293           41231             0          0      0   \n",
              "1170380  4056369      97541           41231             0          0      0   \n",
              "\n",
              "         assists  minutes_played  \n",
              "0              0              90  \n",
              "1              0              67  \n",
              "2              0              80  \n",
              "3              0              90  \n",
              "4              0              90  \n",
              "...          ...             ...  \n",
              "1170376        0              54  \n",
              "1170377        0              90  \n",
              "1170378        0              31  \n",
              "1170379        0              31  \n",
              "1170380        0              90  \n",
              "\n",
              "[1170381 rows x 8 columns]"
            ],
            "text/html": [
              "\n",
              "  <div id=\"df-eeaea82e-2d9e-4215-99b3-656eebce62ad\">\n",
              "    <div class=\"colab-df-container\">\n",
              "      <div>\n",
              "<style scoped>\n",
              "    .dataframe tbody tr th:only-of-type {\n",
              "        vertical-align: middle;\n",
              "    }\n",
              "\n",
              "    .dataframe tbody tr th {\n",
              "        vertical-align: top;\n",
              "    }\n",
              "\n",
              "    .dataframe thead th {\n",
              "        text-align: right;\n",
              "    }\n",
              "</style>\n",
              "<table border=\"1\" class=\"dataframe\">\n",
              "  <thead>\n",
              "    <tr style=\"text-align: right;\">\n",
              "      <th></th>\n",
              "      <th>game_id</th>\n",
              "      <th>player_id</th>\n",
              "      <th>player_club_id</th>\n",
              "      <th>yellow_cards</th>\n",
              "      <th>red_cards</th>\n",
              "      <th>goals</th>\n",
              "      <th>assists</th>\n",
              "      <th>minutes_played</th>\n",
              "    </tr>\n",
              "  </thead>\n",
              "  <tbody>\n",
              "    <tr>\n",
              "      <th>0</th>\n",
              "      <td>2460589</td>\n",
              "      <td>237947</td>\n",
              "      <td>11411</td>\n",
              "      <td>0</td>\n",
              "      <td>0</td>\n",
              "      <td>0</td>\n",
              "      <td>0</td>\n",
              "      <td>90</td>\n",
              "    </tr>\n",
              "    <tr>\n",
              "      <th>1</th>\n",
              "      <td>2460503</td>\n",
              "      <td>150846</td>\n",
              "      <td>4807</td>\n",
              "      <td>0</td>\n",
              "      <td>0</td>\n",
              "      <td>0</td>\n",
              "      <td>0</td>\n",
              "      <td>67</td>\n",
              "    </tr>\n",
              "    <tr>\n",
              "      <th>2</th>\n",
              "      <td>2460507</td>\n",
              "      <td>136142</td>\n",
              "      <td>271</td>\n",
              "      <td>0</td>\n",
              "      <td>0</td>\n",
              "      <td>0</td>\n",
              "      <td>0</td>\n",
              "      <td>80</td>\n",
              "    </tr>\n",
              "    <tr>\n",
              "      <th>3</th>\n",
              "      <td>2460508</td>\n",
              "      <td>153735</td>\n",
              "      <td>18506</td>\n",
              "      <td>0</td>\n",
              "      <td>0</td>\n",
              "      <td>1</td>\n",
              "      <td>0</td>\n",
              "      <td>90</td>\n",
              "    </tr>\n",
              "    <tr>\n",
              "      <th>4</th>\n",
              "      <td>2460509</td>\n",
              "      <td>27017</td>\n",
              "      <td>10482</td>\n",
              "      <td>0</td>\n",
              "      <td>0</td>\n",
              "      <td>0</td>\n",
              "      <td>0</td>\n",
              "      <td>90</td>\n",
              "    </tr>\n",
              "    <tr>\n",
              "      <th>...</th>\n",
              "      <td>...</td>\n",
              "      <td>...</td>\n",
              "      <td>...</td>\n",
              "      <td>...</td>\n",
              "      <td>...</td>\n",
              "      <td>...</td>\n",
              "      <td>...</td>\n",
              "      <td>...</td>\n",
              "    </tr>\n",
              "    <tr>\n",
              "      <th>1170376</th>\n",
              "      <td>4056369</td>\n",
              "      <td>74081</td>\n",
              "      <td>41231</td>\n",
              "      <td>0</td>\n",
              "      <td>0</td>\n",
              "      <td>0</td>\n",
              "      <td>0</td>\n",
              "      <td>54</td>\n",
              "    </tr>\n",
              "    <tr>\n",
              "      <th>1170377</th>\n",
              "      <td>4056369</td>\n",
              "      <td>793509</td>\n",
              "      <td>49702</td>\n",
              "      <td>0</td>\n",
              "      <td>0</td>\n",
              "      <td>0</td>\n",
              "      <td>0</td>\n",
              "      <td>90</td>\n",
              "    </tr>\n",
              "    <tr>\n",
              "      <th>1170378</th>\n",
              "      <td>4056369</td>\n",
              "      <td>810570</td>\n",
              "      <td>41231</td>\n",
              "      <td>0</td>\n",
              "      <td>0</td>\n",
              "      <td>0</td>\n",
              "      <td>0</td>\n",
              "      <td>31</td>\n",
              "    </tr>\n",
              "    <tr>\n",
              "      <th>1170379</th>\n",
              "      <td>4056369</td>\n",
              "      <td>951293</td>\n",
              "      <td>41231</td>\n",
              "      <td>0</td>\n",
              "      <td>0</td>\n",
              "      <td>0</td>\n",
              "      <td>0</td>\n",
              "      <td>31</td>\n",
              "    </tr>\n",
              "    <tr>\n",
              "      <th>1170380</th>\n",
              "      <td>4056369</td>\n",
              "      <td>97541</td>\n",
              "      <td>41231</td>\n",
              "      <td>0</td>\n",
              "      <td>0</td>\n",
              "      <td>0</td>\n",
              "      <td>0</td>\n",
              "      <td>90</td>\n",
              "    </tr>\n",
              "  </tbody>\n",
              "</table>\n",
              "<p>1170381 rows × 8 columns</p>\n",
              "</div>\n",
              "      <button class=\"colab-df-convert\" onclick=\"convertToInteractive('df-eeaea82e-2d9e-4215-99b3-656eebce62ad')\"\n",
              "              title=\"Convert this dataframe to an interactive table.\"\n",
              "              style=\"display:none;\">\n",
              "        \n",
              "  <svg xmlns=\"http://www.w3.org/2000/svg\" height=\"24px\"viewBox=\"0 0 24 24\"\n",
              "       width=\"24px\">\n",
              "    <path d=\"M0 0h24v24H0V0z\" fill=\"none\"/>\n",
              "    <path d=\"M18.56 5.44l.94 2.06.94-2.06 2.06-.94-2.06-.94-.94-2.06-.94 2.06-2.06.94zm-11 1L8.5 8.5l.94-2.06 2.06-.94-2.06-.94L8.5 2.5l-.94 2.06-2.06.94zm10 10l.94 2.06.94-2.06 2.06-.94-2.06-.94-.94-2.06-.94 2.06-2.06.94z\"/><path d=\"M17.41 7.96l-1.37-1.37c-.4-.4-.92-.59-1.43-.59-.52 0-1.04.2-1.43.59L10.3 9.45l-7.72 7.72c-.78.78-.78 2.05 0 2.83L4 21.41c.39.39.9.59 1.41.59.51 0 1.02-.2 1.41-.59l7.78-7.78 2.81-2.81c.8-.78.8-2.07 0-2.86zM5.41 20L4 18.59l7.72-7.72 1.47 1.35L5.41 20z\"/>\n",
              "  </svg>\n",
              "      </button>\n",
              "      \n",
              "  <style>\n",
              "    .colab-df-container {\n",
              "      display:flex;\n",
              "      flex-wrap:wrap;\n",
              "      gap: 12px;\n",
              "    }\n",
              "\n",
              "    .colab-df-convert {\n",
              "      background-color: #E8F0FE;\n",
              "      border: none;\n",
              "      border-radius: 50%;\n",
              "      cursor: pointer;\n",
              "      display: none;\n",
              "      fill: #1967D2;\n",
              "      height: 32px;\n",
              "      padding: 0 0 0 0;\n",
              "      width: 32px;\n",
              "    }\n",
              "\n",
              "    .colab-df-convert:hover {\n",
              "      background-color: #E2EBFA;\n",
              "      box-shadow: 0px 1px 2px rgba(60, 64, 67, 0.3), 0px 1px 3px 1px rgba(60, 64, 67, 0.15);\n",
              "      fill: #174EA6;\n",
              "    }\n",
              "\n",
              "    [theme=dark] .colab-df-convert {\n",
              "      background-color: #3B4455;\n",
              "      fill: #D2E3FC;\n",
              "    }\n",
              "\n",
              "    [theme=dark] .colab-df-convert:hover {\n",
              "      background-color: #434B5C;\n",
              "      box-shadow: 0px 1px 3px 1px rgba(0, 0, 0, 0.15);\n",
              "      filter: drop-shadow(0px 1px 2px rgba(0, 0, 0, 0.3));\n",
              "      fill: #FFFFFF;\n",
              "    }\n",
              "  </style>\n",
              "\n",
              "      <script>\n",
              "        const buttonEl =\n",
              "          document.querySelector('#df-eeaea82e-2d9e-4215-99b3-656eebce62ad button.colab-df-convert');\n",
              "        buttonEl.style.display =\n",
              "          google.colab.kernel.accessAllowed ? 'block' : 'none';\n",
              "\n",
              "        async function convertToInteractive(key) {\n",
              "          const element = document.querySelector('#df-eeaea82e-2d9e-4215-99b3-656eebce62ad');\n",
              "          const dataTable =\n",
              "            await google.colab.kernel.invokeFunction('convertToInteractive',\n",
              "                                                     [key], {});\n",
              "          if (!dataTable) return;\n",
              "\n",
              "          const docLinkHtml = 'Like what you see? Visit the ' +\n",
              "            '<a target=\"_blank\" href=https://colab.research.google.com/notebooks/data_table.ipynb>data table notebook</a>'\n",
              "            + ' to learn more about interactive tables.';\n",
              "          element.innerHTML = '';\n",
              "          dataTable['output_type'] = 'display_data';\n",
              "          await google.colab.output.renderOutput(dataTable, element);\n",
              "          const docLink = document.createElement('div');\n",
              "          docLink.innerHTML = docLinkHtml;\n",
              "          element.appendChild(docLink);\n",
              "        }\n",
              "      </script>\n",
              "    </div>\n",
              "  </div>\n",
              "  "
            ]
          },
          "metadata": {},
          "execution_count": 30
        }
      ]
    },
    {
      "cell_type": "markdown",
      "source": [
        "# Export Tables for DB"
      ],
      "metadata": {
        "id": "gmkPnM65rbty"
      }
    },
    {
      "cell_type": "code",
      "source": [
        "# export tables\n",
        "players_df.to_csv('players_cleaned.csv')\n",
        "clubs_df.to_csv('clubs_cleaned.csv')\n",
        "games_df.to_csv('games_cleaned.csv')\n",
        "appearances_df.to_csv('appearances_cleaned.csv')"
      ],
      "metadata": {
        "id": "QBmi01t2rbAY"
      },
      "execution_count": null,
      "outputs": []
    }
  ]
}