{
  "nbformat": 4,
  "nbformat_minor": 0,
  "metadata": {
    "colab": {
      "provenance": [],
      "include_colab_link": true
    },
    "kernelspec": {
      "name": "python3",
      "display_name": "Python 3"
    },
    "language_info": {
      "name": "python"
    }
  },
  "cells": [
    {
      "cell_type": "markdown",
      "metadata": {
        "id": "view-in-github",
        "colab_type": "text"
      },
      "source": [
        "<a href=\"https://colab.research.google.com/github/tonyjan02/soccerdb/blob/main/pre_processing.ipynb\" target=\"_parent\"><img src=\"https://colab.research.google.com/assets/colab-badge.svg\" alt=\"Open In Colab\"/></a>"
      ]
    },
    {
      "cell_type": "markdown",
      "source": [
        "### CIS 550 Pre-Processing"
      ],
      "metadata": {
        "id": "9r44dAw4lTMp"
      }
    },
    {
      "cell_type": "markdown",
      "source": [
        "# Set-Up: Imports with Kaggle "
      ],
      "metadata": {
        "id": "AtHmIhw2lLgv"
      }
    },
    {
      "cell_type": "code",
      "execution_count": 14,
      "metadata": {
        "id": "VHT-I_qu35is"
      },
      "outputs": [],
      "source": [
        "# importing necessary libraries\n",
        "import json\n",
        "import pandas as pd\n",
        "import numpy as np\n",
        "import datetime as dt\n",
        "import matplotlib.pyplot as plt\n",
        "import seaborn as sns\n",
        "from matplotlib import cm\n",
        "from google.colab import drive\n",
        "from sklearn.model_selection import train_test_split"
      ]
    },
    {
      "cell_type": "code",
      "source": [
        "!apt update"
      ],
      "metadata": {
        "id": "VWkA9mzI48z9",
        "colab": {
          "base_uri": "https://localhost:8080/"
        },
        "outputId": "0564f5a9-9f0b-485d-b113-b8773676caf6"
      },
      "execution_count": 15,
      "outputs": [
        {
          "output_type": "stream",
          "name": "stdout",
          "text": [
            "\u001b[33m\r0% [Working]\u001b[0m\r            \rHit:1 http://archive.ubuntu.com/ubuntu focal InRelease\n",
            "\r            \rHit:2 http://security.ubuntu.com/ubuntu focal-security InRelease\n",
            "\u001b[33m\r0% [Waiting for headers] [Connected to cloud.r-project.org (18.67.76.96)] [Conn\u001b[0m\r                                                                               \rHit:3 http://archive.ubuntu.com/ubuntu focal-updates InRelease\n",
            "\r                                                                               \rHit:4 https://cloud.r-project.org/bin/linux/ubuntu focal-cran40/ InRelease\n",
            "\u001b[33m\r0% [Connecting to ppa.launchpad.net] [Connected to developer.download.nvidia.co\u001b[0m\r                                                                               \rHit:5 http://archive.ubuntu.com/ubuntu focal-backports InRelease\n",
            "\u001b[33m\r                                                                               \r0% [Connecting to ppa.launchpad.net] [Waiting for headers]\u001b[0m\r                                                          \rHit:6 https://developer.download.nvidia.com/compute/cuda/repos/ubuntu2004/x86_64  InRelease\n",
            "Hit:7 http://ppa.launchpad.net/c2d4u.team/c2d4u4.0+/ubuntu focal InRelease\n",
            "Hit:8 http://ppa.launchpad.net/cran/libgit2/ubuntu focal InRelease\n",
            "Hit:9 http://ppa.launchpad.net/deadsnakes/ppa/ubuntu focal InRelease\n",
            "Hit:10 http://ppa.launchpad.net/graphics-drivers/ppa/ubuntu focal InRelease\n",
            "Hit:11 http://ppa.launchpad.net/ubuntugis/ppa/ubuntu focal InRelease\n",
            "Reading package lists... Done\n",
            "Building dependency tree       \n",
            "Reading state information... Done\n",
            "23 packages can be upgraded. Run 'apt list --upgradable' to see them.\n"
          ]
        }
      ]
    },
    {
      "cell_type": "code",
      "source": [
        "from google.colab import drive\n",
        "drive.mount('/content/drive')"
      ],
      "metadata": {
        "id": "q2Vkle-C4-d9",
        "colab": {
          "base_uri": "https://localhost:8080/"
        },
        "outputId": "80834607-f70f-4ac0-bc9a-22449b4adc48"
      },
      "execution_count": 16,
      "outputs": [
        {
          "output_type": "stream",
          "name": "stdout",
          "text": [
            "Drive already mounted at /content/drive; to attempt to forcibly remount, call drive.mount(\"/content/drive\", force_remount=True).\n"
          ]
        }
      ]
    },
    {
      "cell_type": "code",
      "source": [
        "!pip install kaggle"
      ],
      "metadata": {
        "id": "IDr-uHIb4_nO",
        "colab": {
          "base_uri": "https://localhost:8080/"
        },
        "outputId": "e364077f-412e-4dff-e706-8a706f0f2b9e"
      },
      "execution_count": 17,
      "outputs": [
        {
          "output_type": "stream",
          "name": "stdout",
          "text": [
            "Looking in indexes: https://pypi.org/simple, https://us-python.pkg.dev/colab-wheels/public/simple/\n",
            "Requirement already satisfied: kaggle in /usr/local/lib/python3.9/dist-packages (1.5.13)\n",
            "Requirement already satisfied: requests in /usr/local/lib/python3.9/dist-packages (from kaggle) (2.27.1)\n",
            "Requirement already satisfied: certifi in /usr/local/lib/python3.9/dist-packages (from kaggle) (2022.12.7)\n",
            "Requirement already satisfied: python-slugify in /usr/local/lib/python3.9/dist-packages (from kaggle) (8.0.1)\n",
            "Requirement already satisfied: tqdm in /usr/local/lib/python3.9/dist-packages (from kaggle) (4.65.0)\n",
            "Requirement already satisfied: urllib3 in /usr/local/lib/python3.9/dist-packages (from kaggle) (1.26.15)\n",
            "Requirement already satisfied: six>=1.10 in /usr/local/lib/python3.9/dist-packages (from kaggle) (1.16.0)\n",
            "Requirement already satisfied: python-dateutil in /usr/local/lib/python3.9/dist-packages (from kaggle) (2.8.2)\n",
            "Requirement already satisfied: text-unidecode>=1.3 in /usr/local/lib/python3.9/dist-packages (from python-slugify->kaggle) (1.3)\n",
            "Requirement already satisfied: idna<4,>=2.5 in /usr/local/lib/python3.9/dist-packages (from requests->kaggle) (3.4)\n",
            "Requirement already satisfied: charset-normalizer~=2.0.0 in /usr/local/lib/python3.9/dist-packages (from requests->kaggle) (2.0.12)\n"
          ]
        }
      ]
    },
    {
      "cell_type": "code",
      "source": [
        "!mkdir ~/.kaggle"
      ],
      "metadata": {
        "id": "hWTDRW2O5ByY",
        "colab": {
          "base_uri": "https://localhost:8080/"
        },
        "outputId": "3198f4de-87c2-4452-96a6-d598bd7c2b9e"
      },
      "execution_count": 18,
      "outputs": [
        {
          "output_type": "stream",
          "name": "stdout",
          "text": [
            "mkdir: cannot create directory ‘/root/.kaggle’: File exists\n"
          ]
        }
      ]
    },
    {
      "cell_type": "code",
      "source": [
        "!cp /content/drive/MyDrive/kaggle.json ~/.kaggle/"
      ],
      "metadata": {
        "id": "DuPzIMNT5C33"
      },
      "execution_count": 19,
      "outputs": []
    },
    {
      "cell_type": "code",
      "source": [
        "!kaggle datasets download -d davidcariboo/player-scores"
      ],
      "metadata": {
        "id": "prdXAVcE5EFo",
        "colab": {
          "base_uri": "https://localhost:8080/"
        },
        "outputId": "639dfe0b-3385-4b0a-c092-94a334b35b1d"
      },
      "execution_count": 20,
      "outputs": [
        {
          "output_type": "stream",
          "name": "stdout",
          "text": [
            "player-scores.zip: Skipping, found more recently modified local copy (use --force to force download)\n"
          ]
        }
      ]
    },
    {
      "cell_type": "code",
      "source": [
        "!unzip /content/player-scores.zip"
      ],
      "metadata": {
        "id": "7ZqRU8aZ5FVj",
        "colab": {
          "base_uri": "https://localhost:8080/"
        },
        "outputId": "03438568-c4de-4af4-8350-a8e3ee7c4426"
      },
      "execution_count": 21,
      "outputs": [
        {
          "output_type": "stream",
          "name": "stdout",
          "text": [
            "Archive:  /content/player-scores.zip\n",
            "replace appearances.csv? [y]es, [n]o, [A]ll, [N]one, [r]ename: y\n",
            "  inflating: appearances.csv         \n",
            "replace club_games.csv? [y]es, [n]o, [A]ll, [N]one, [r]ename: y\n",
            "  inflating: club_games.csv          \n",
            "replace clubs.csv? [y]es, [n]o, [A]ll, [N]one, [r]ename: "
          ]
        }
      ]
    },
    {
      "cell_type": "markdown",
      "source": [
        "# Cleaning Players Dataset"
      ],
      "metadata": {
        "id": "KmoHnrEjlbwI"
      }
    },
    {
      "cell_type": "code",
      "source": [
        "players_df = pd.read_csv(\"players.csv\")"
      ],
      "metadata": {
        "id": "NuI98kXO6O-A"
      },
      "execution_count": 47,
      "outputs": []
    },
    {
      "cell_type": "code",
      "source": [
        "players_df.columns"
      ],
      "metadata": {
        "colab": {
          "base_uri": "https://localhost:8080/"
        },
        "id": "05C7RBrzcGc3",
        "outputId": "50801293-5b3c-480a-c6c7-56b3907b001a"
      },
      "execution_count": 25,
      "outputs": [
        {
          "output_type": "execute_result",
          "data": {
            "text/plain": [
              "Index(['player_id', 'name', 'current_club_id', 'current_club_name',\n",
              "       'country_of_citizenship', 'country_of_birth', 'city_of_birth',\n",
              "       'date_of_birth', 'position', 'sub_position', 'foot', 'height_in_cm',\n",
              "       'market_value_in_eur', 'highest_market_value_in_eur', 'agent_name',\n",
              "       'contract_expiration_date', 'current_club_domestic_competition_id',\n",
              "       'first_name', 'last_name', 'player_code', 'image_url', 'last_season',\n",
              "       'url'],\n",
              "      dtype='object')"
            ]
          },
          "metadata": {},
          "execution_count": 25
        }
      ]
    },
    {
      "cell_type": "code",
      "source": [
        "players_df = players_df.drop(columns=[\"current_club_name\", \"country_of_birth\", \"city_of_birth\", \"sub_position\", \"agent_name\", \"contract_expiration_date\", \"current_club_domestic_competition_id\", \"url\", \"player_code\", \"first_name\", \"last_name\"])"
      ],
      "metadata": {
        "id": "8-euXzDDbaxy"
      },
      "execution_count": 48,
      "outputs": []
    },
    {
      "cell_type": "code",
      "source": [
        "players_df = players_df.rename(columns={\"current_club_id\": \"club_id\", \"country_of_citizenship\": \"country\"})\n",
        "len(players_df.index)"
      ],
      "metadata": {
        "colab": {
          "base_uri": "https://localhost:8080/"
        },
        "id": "JFAbPa1RfNCI",
        "outputId": "eca17b99-ddfd-4995-89f1-d272ac73db14"
      },
      "execution_count": 49,
      "outputs": [
        {
          "output_type": "execute_result",
          "data": {
            "text/plain": [
              "27456"
            ]
          },
          "metadata": {},
          "execution_count": 49
        }
      ]
    },
    {
      "cell_type": "code",
      "source": [
        "players_df = players_df.dropna(subset=[\"player_id\", \"name\"])\n",
        "len(players_df.index)"
      ],
      "metadata": {
        "colab": {
          "base_uri": "https://localhost:8080/"
        },
        "id": "0Iwtx1tHeRJw",
        "outputId": "acdeaf7a-612a-4179-9577-bb1068809170"
      },
      "execution_count": 50,
      "outputs": [
        {
          "output_type": "execute_result",
          "data": {
            "text/plain": [
              "27456"
            ]
          },
          "metadata": {},
          "execution_count": 50
        }
      ]
    },
    {
      "cell_type": "code",
      "source": [
        "players_df"
      ],
      "metadata": {
        "colab": {
          "base_uri": "https://localhost:8080/",
          "height": 423
        },
        "id": "LxrULTzHi0eH",
        "outputId": "61a1c630-591e-4f93-a2da-cd3c575e00bf"
      },
      "execution_count": 51,
      "outputs": [
        {
          "output_type": "execute_result",
          "data": {
            "text/plain": [
              "       player_id                name  club_id        country date_of_birth  \\\n",
              "0         134354     Ian Raeymaekers      498        Belgium    1995-01-30   \n",
              "1          99946      Mohamed Camara     1095         Guinea    1990-09-20   \n",
              "2          76948       Pablo Olivera      979        Uruguay    1987-12-08   \n",
              "3         108372      Aliosman Aydin       38         Turkey    1992-02-06   \n",
              "4          78820  Jaime Alfonso Ruiz      354       Colombia    1984-01-03   \n",
              "...          ...                 ...      ...            ...           ...   \n",
              "27451     178313   Jean-Eudes Aholou      667  Cote d'Ivoire    1994-03-20   \n",
              "27452     250844     Alexander Djiku      667          Ghana    1994-08-09   \n",
              "27453     453016        Anthony Caci      667         France    1997-07-01   \n",
              "27454     880330     Moïse Sahi Dion      667  Cote d'Ivoire    2001-12-20   \n",
              "27455     283994     Ludovic Ajorque      667         France    1994-02-25   \n",
              "\n",
              "       position   foot  height_in_cm  market_value_in_eur  \\\n",
              "0        Attack  Right             0                  NaN   \n",
              "1        Attack  Right           180                  NaN   \n",
              "2        Attack  Right           175              25000.0   \n",
              "3        Attack  Right           178                  NaN   \n",
              "4        Attack  Right           184                  NaN   \n",
              "...         ...    ...           ...                  ...   \n",
              "27451  Midfield   Left           186            3000000.0   \n",
              "27452  Defender  Right           182            8000000.0   \n",
              "27453  Defender  Right           184            7000000.0   \n",
              "27454    Attack   Left           175            1200000.0   \n",
              "27455    Attack   Left           197           11000000.0   \n",
              "\n",
              "       highest_market_value_in_eur  \\\n",
              "0                          50000.0   \n",
              "1                         300000.0   \n",
              "2                         600000.0   \n",
              "3                         125000.0   \n",
              "4                        1700000.0   \n",
              "...                            ...   \n",
              "27451                   10000000.0   \n",
              "27452                   10000000.0   \n",
              "27453                    7000000.0   \n",
              "27454                    1200000.0   \n",
              "27455                   16000000.0   \n",
              "\n",
              "                                               image_url  last_season  \n",
              "0      https://img.a.transfermarkt.technology/portrai...         2012  \n",
              "1      https://img.a.transfermarkt.technology/portrai...         2012  \n",
              "2      https://img.a.transfermarkt.technology/portrai...         2012  \n",
              "3      https://img.a.transfermarkt.technology/portrai...         2012  \n",
              "4      https://img.a.transfermarkt.technology/portrai...         2012  \n",
              "...                                                  ...          ...  \n",
              "27451  https://img.a.transfermarkt.technology/portrai...         2021  \n",
              "27452  https://img.a.transfermarkt.technology/portrai...         2021  \n",
              "27453  https://img.a.transfermarkt.technology/portrai...         2021  \n",
              "27454  https://img.a.transfermarkt.technology/portrai...         2021  \n",
              "27455  https://img.a.transfermarkt.technology/portrai...         2021  \n",
              "\n",
              "[27456 rows x 12 columns]"
            ],
            "text/html": [
              "\n",
              "  <div id=\"df-cf824c94-b479-4d26-8987-b3b9e126c275\">\n",
              "    <div class=\"colab-df-container\">\n",
              "      <div>\n",
              "<style scoped>\n",
              "    .dataframe tbody tr th:only-of-type {\n",
              "        vertical-align: middle;\n",
              "    }\n",
              "\n",
              "    .dataframe tbody tr th {\n",
              "        vertical-align: top;\n",
              "    }\n",
              "\n",
              "    .dataframe thead th {\n",
              "        text-align: right;\n",
              "    }\n",
              "</style>\n",
              "<table border=\"1\" class=\"dataframe\">\n",
              "  <thead>\n",
              "    <tr style=\"text-align: right;\">\n",
              "      <th></th>\n",
              "      <th>player_id</th>\n",
              "      <th>name</th>\n",
              "      <th>club_id</th>\n",
              "      <th>country</th>\n",
              "      <th>date_of_birth</th>\n",
              "      <th>position</th>\n",
              "      <th>foot</th>\n",
              "      <th>height_in_cm</th>\n",
              "      <th>market_value_in_eur</th>\n",
              "      <th>highest_market_value_in_eur</th>\n",
              "      <th>image_url</th>\n",
              "      <th>last_season</th>\n",
              "    </tr>\n",
              "  </thead>\n",
              "  <tbody>\n",
              "    <tr>\n",
              "      <th>0</th>\n",
              "      <td>134354</td>\n",
              "      <td>Ian Raeymaekers</td>\n",
              "      <td>498</td>\n",
              "      <td>Belgium</td>\n",
              "      <td>1995-01-30</td>\n",
              "      <td>Attack</td>\n",
              "      <td>Right</td>\n",
              "      <td>0</td>\n",
              "      <td>NaN</td>\n",
              "      <td>50000.0</td>\n",
              "      <td>https://img.a.transfermarkt.technology/portrai...</td>\n",
              "      <td>2012</td>\n",
              "    </tr>\n",
              "    <tr>\n",
              "      <th>1</th>\n",
              "      <td>99946</td>\n",
              "      <td>Mohamed Camara</td>\n",
              "      <td>1095</td>\n",
              "      <td>Guinea</td>\n",
              "      <td>1990-09-20</td>\n",
              "      <td>Attack</td>\n",
              "      <td>Right</td>\n",
              "      <td>180</td>\n",
              "      <td>NaN</td>\n",
              "      <td>300000.0</td>\n",
              "      <td>https://img.a.transfermarkt.technology/portrai...</td>\n",
              "      <td>2012</td>\n",
              "    </tr>\n",
              "    <tr>\n",
              "      <th>2</th>\n",
              "      <td>76948</td>\n",
              "      <td>Pablo Olivera</td>\n",
              "      <td>979</td>\n",
              "      <td>Uruguay</td>\n",
              "      <td>1987-12-08</td>\n",
              "      <td>Attack</td>\n",
              "      <td>Right</td>\n",
              "      <td>175</td>\n",
              "      <td>25000.0</td>\n",
              "      <td>600000.0</td>\n",
              "      <td>https://img.a.transfermarkt.technology/portrai...</td>\n",
              "      <td>2012</td>\n",
              "    </tr>\n",
              "    <tr>\n",
              "      <th>3</th>\n",
              "      <td>108372</td>\n",
              "      <td>Aliosman Aydin</td>\n",
              "      <td>38</td>\n",
              "      <td>Turkey</td>\n",
              "      <td>1992-02-06</td>\n",
              "      <td>Attack</td>\n",
              "      <td>Right</td>\n",
              "      <td>178</td>\n",
              "      <td>NaN</td>\n",
              "      <td>125000.0</td>\n",
              "      <td>https://img.a.transfermarkt.technology/portrai...</td>\n",
              "      <td>2012</td>\n",
              "    </tr>\n",
              "    <tr>\n",
              "      <th>4</th>\n",
              "      <td>78820</td>\n",
              "      <td>Jaime Alfonso Ruiz</td>\n",
              "      <td>354</td>\n",
              "      <td>Colombia</td>\n",
              "      <td>1984-01-03</td>\n",
              "      <td>Attack</td>\n",
              "      <td>Right</td>\n",
              "      <td>184</td>\n",
              "      <td>NaN</td>\n",
              "      <td>1700000.0</td>\n",
              "      <td>https://img.a.transfermarkt.technology/portrai...</td>\n",
              "      <td>2012</td>\n",
              "    </tr>\n",
              "    <tr>\n",
              "      <th>...</th>\n",
              "      <td>...</td>\n",
              "      <td>...</td>\n",
              "      <td>...</td>\n",
              "      <td>...</td>\n",
              "      <td>...</td>\n",
              "      <td>...</td>\n",
              "      <td>...</td>\n",
              "      <td>...</td>\n",
              "      <td>...</td>\n",
              "      <td>...</td>\n",
              "      <td>...</td>\n",
              "      <td>...</td>\n",
              "    </tr>\n",
              "    <tr>\n",
              "      <th>27451</th>\n",
              "      <td>178313</td>\n",
              "      <td>Jean-Eudes Aholou</td>\n",
              "      <td>667</td>\n",
              "      <td>Cote d'Ivoire</td>\n",
              "      <td>1994-03-20</td>\n",
              "      <td>Midfield</td>\n",
              "      <td>Left</td>\n",
              "      <td>186</td>\n",
              "      <td>3000000.0</td>\n",
              "      <td>10000000.0</td>\n",
              "      <td>https://img.a.transfermarkt.technology/portrai...</td>\n",
              "      <td>2021</td>\n",
              "    </tr>\n",
              "    <tr>\n",
              "      <th>27452</th>\n",
              "      <td>250844</td>\n",
              "      <td>Alexander Djiku</td>\n",
              "      <td>667</td>\n",
              "      <td>Ghana</td>\n",
              "      <td>1994-08-09</td>\n",
              "      <td>Defender</td>\n",
              "      <td>Right</td>\n",
              "      <td>182</td>\n",
              "      <td>8000000.0</td>\n",
              "      <td>10000000.0</td>\n",
              "      <td>https://img.a.transfermarkt.technology/portrai...</td>\n",
              "      <td>2021</td>\n",
              "    </tr>\n",
              "    <tr>\n",
              "      <th>27453</th>\n",
              "      <td>453016</td>\n",
              "      <td>Anthony Caci</td>\n",
              "      <td>667</td>\n",
              "      <td>France</td>\n",
              "      <td>1997-07-01</td>\n",
              "      <td>Defender</td>\n",
              "      <td>Right</td>\n",
              "      <td>184</td>\n",
              "      <td>7000000.0</td>\n",
              "      <td>7000000.0</td>\n",
              "      <td>https://img.a.transfermarkt.technology/portrai...</td>\n",
              "      <td>2021</td>\n",
              "    </tr>\n",
              "    <tr>\n",
              "      <th>27454</th>\n",
              "      <td>880330</td>\n",
              "      <td>Moïse Sahi Dion</td>\n",
              "      <td>667</td>\n",
              "      <td>Cote d'Ivoire</td>\n",
              "      <td>2001-12-20</td>\n",
              "      <td>Attack</td>\n",
              "      <td>Left</td>\n",
              "      <td>175</td>\n",
              "      <td>1200000.0</td>\n",
              "      <td>1200000.0</td>\n",
              "      <td>https://img.a.transfermarkt.technology/portrai...</td>\n",
              "      <td>2021</td>\n",
              "    </tr>\n",
              "    <tr>\n",
              "      <th>27455</th>\n",
              "      <td>283994</td>\n",
              "      <td>Ludovic Ajorque</td>\n",
              "      <td>667</td>\n",
              "      <td>France</td>\n",
              "      <td>1994-02-25</td>\n",
              "      <td>Attack</td>\n",
              "      <td>Left</td>\n",
              "      <td>197</td>\n",
              "      <td>11000000.0</td>\n",
              "      <td>16000000.0</td>\n",
              "      <td>https://img.a.transfermarkt.technology/portrai...</td>\n",
              "      <td>2021</td>\n",
              "    </tr>\n",
              "  </tbody>\n",
              "</table>\n",
              "<p>27456 rows × 12 columns</p>\n",
              "</div>\n",
              "      <button class=\"colab-df-convert\" onclick=\"convertToInteractive('df-cf824c94-b479-4d26-8987-b3b9e126c275')\"\n",
              "              title=\"Convert this dataframe to an interactive table.\"\n",
              "              style=\"display:none;\">\n",
              "        \n",
              "  <svg xmlns=\"http://www.w3.org/2000/svg\" height=\"24px\"viewBox=\"0 0 24 24\"\n",
              "       width=\"24px\">\n",
              "    <path d=\"M0 0h24v24H0V0z\" fill=\"none\"/>\n",
              "    <path d=\"M18.56 5.44l.94 2.06.94-2.06 2.06-.94-2.06-.94-.94-2.06-.94 2.06-2.06.94zm-11 1L8.5 8.5l.94-2.06 2.06-.94-2.06-.94L8.5 2.5l-.94 2.06-2.06.94zm10 10l.94 2.06.94-2.06 2.06-.94-2.06-.94-.94-2.06-.94 2.06-2.06.94z\"/><path d=\"M17.41 7.96l-1.37-1.37c-.4-.4-.92-.59-1.43-.59-.52 0-1.04.2-1.43.59L10.3 9.45l-7.72 7.72c-.78.78-.78 2.05 0 2.83L4 21.41c.39.39.9.59 1.41.59.51 0 1.02-.2 1.41-.59l7.78-7.78 2.81-2.81c.8-.78.8-2.07 0-2.86zM5.41 20L4 18.59l7.72-7.72 1.47 1.35L5.41 20z\"/>\n",
              "  </svg>\n",
              "      </button>\n",
              "      \n",
              "  <style>\n",
              "    .colab-df-container {\n",
              "      display:flex;\n",
              "      flex-wrap:wrap;\n",
              "      gap: 12px;\n",
              "    }\n",
              "\n",
              "    .colab-df-convert {\n",
              "      background-color: #E8F0FE;\n",
              "      border: none;\n",
              "      border-radius: 50%;\n",
              "      cursor: pointer;\n",
              "      display: none;\n",
              "      fill: #1967D2;\n",
              "      height: 32px;\n",
              "      padding: 0 0 0 0;\n",
              "      width: 32px;\n",
              "    }\n",
              "\n",
              "    .colab-df-convert:hover {\n",
              "      background-color: #E2EBFA;\n",
              "      box-shadow: 0px 1px 2px rgba(60, 64, 67, 0.3), 0px 1px 3px 1px rgba(60, 64, 67, 0.15);\n",
              "      fill: #174EA6;\n",
              "    }\n",
              "\n",
              "    [theme=dark] .colab-df-convert {\n",
              "      background-color: #3B4455;\n",
              "      fill: #D2E3FC;\n",
              "    }\n",
              "\n",
              "    [theme=dark] .colab-df-convert:hover {\n",
              "      background-color: #434B5C;\n",
              "      box-shadow: 0px 1px 3px 1px rgba(0, 0, 0, 0.15);\n",
              "      filter: drop-shadow(0px 1px 2px rgba(0, 0, 0, 0.3));\n",
              "      fill: #FFFFFF;\n",
              "    }\n",
              "  </style>\n",
              "\n",
              "      <script>\n",
              "        const buttonEl =\n",
              "          document.querySelector('#df-cf824c94-b479-4d26-8987-b3b9e126c275 button.colab-df-convert');\n",
              "        buttonEl.style.display =\n",
              "          google.colab.kernel.accessAllowed ? 'block' : 'none';\n",
              "\n",
              "        async function convertToInteractive(key) {\n",
              "          const element = document.querySelector('#df-cf824c94-b479-4d26-8987-b3b9e126c275');\n",
              "          const dataTable =\n",
              "            await google.colab.kernel.invokeFunction('convertToInteractive',\n",
              "                                                     [key], {});\n",
              "          if (!dataTable) return;\n",
              "\n",
              "          const docLinkHtml = 'Like what you see? Visit the ' +\n",
              "            '<a target=\"_blank\" href=https://colab.research.google.com/notebooks/data_table.ipynb>data table notebook</a>'\n",
              "            + ' to learn more about interactive tables.';\n",
              "          element.innerHTML = '';\n",
              "          dataTable['output_type'] = 'display_data';\n",
              "          await google.colab.output.renderOutput(dataTable, element);\n",
              "          const docLink = document.createElement('div');\n",
              "          docLink.innerHTML = docLinkHtml;\n",
              "          element.appendChild(docLink);\n",
              "        }\n",
              "      </script>\n",
              "    </div>\n",
              "  </div>\n",
              "  "
            ]
          },
          "metadata": {},
          "execution_count": 51
        }
      ]
    },
    {
      "cell_type": "markdown",
      "source": [
        "# Cleaning Clubs Dataset"
      ],
      "metadata": {
        "id": "Av28Z3PplgRI"
      }
    },
    {
      "cell_type": "code",
      "source": [
        "clubs_df = pd.read_csv(\"clubs.csv\")"
      ],
      "metadata": {
        "id": "klD2BYT4hLSz"
      },
      "execution_count": 82,
      "outputs": []
    },
    {
      "cell_type": "code",
      "source": [
        "clubs_df.columns"
      ],
      "metadata": {
        "colab": {
          "base_uri": "https://localhost:8080/"
        },
        "id": "yTCYrT5_iHdQ",
        "outputId": "241641a7-b4c8-42fc-e812-756fb83001e5"
      },
      "execution_count": 68,
      "outputs": [
        {
          "output_type": "execute_result",
          "data": {
            "text/plain": [
              "Index(['club_id', 'club_code', 'name', 'domestic_competition_id',\n",
              "       'total_market_value', 'squad_size', 'average_age', 'foreigners_number',\n",
              "       'foreigners_percentage', 'national_team_players', 'stadium_name',\n",
              "       'stadium_seats', 'net_transfer_record', 'coach_name', 'url'],\n",
              "      dtype='object')"
            ]
          },
          "metadata": {},
          "execution_count": 68
        }
      ]
    },
    {
      "cell_type": "code",
      "source": [
        "clubs_df = clubs_df.drop(columns=[\"club_code\", \"domestic_competition_id\", \"foreigners_number\", \"foreigners_percentage\", \"national_team_players\", \"stadium_name\", \"stadium_seats\", \"net_transfer_record\", \"url\"])"
      ],
      "metadata": {
        "id": "lU0Ot9vLijs5"
      },
      "execution_count": 69,
      "outputs": []
    },
    {
      "cell_type": "code",
      "source": [
        "clubs_df = clubs_df.rename(columns={\"name\": \"club_name\"})\n",
        "len(clubs_df.index)"
      ],
      "metadata": {
        "colab": {
          "base_uri": "https://localhost:8080/"
        },
        "id": "sxFwwVD_jW6D",
        "outputId": "189387cb-3043-453c-e9ca-ddbca02c72da"
      },
      "execution_count": 70,
      "outputs": [
        {
          "output_type": "execute_result",
          "data": {
            "text/plain": [
              "401"
            ]
          },
          "metadata": {},
          "execution_count": 70
        }
      ]
    },
    {
      "cell_type": "code",
      "source": [
        "clubs_df = clubs_df.dropna(subset=[\"club_id\", \"club_name\"])\n",
        "len(clubs_df.index)"
      ],
      "metadata": {
        "colab": {
          "base_uri": "https://localhost:8080/"
        },
        "id": "5dKjBH_2k_AB",
        "outputId": "0f88f84d-e621-4c1b-e5ed-fc7b80c913ca"
      },
      "execution_count": 71,
      "outputs": [
        {
          "output_type": "execute_result",
          "data": {
            "text/plain": [
              "401"
            ]
          },
          "metadata": {},
          "execution_count": 71
        }
      ]
    },
    {
      "cell_type": "code",
      "source": [
        "clubs_df"
      ],
      "metadata": {
        "colab": {
          "base_uri": "https://localhost:8080/",
          "height": 423
        },
        "id": "BlTuz_mSjTlq",
        "outputId": "6f222ea1-8100-4a85-de9b-dd813b96595d"
      },
      "execution_count": 62,
      "outputs": [
        {
          "output_type": "execute_result",
          "data": {
            "text/plain": [
              "     club_id             club_name  total_market_value  squad_size  \\\n",
              "0       1032            Fc Reading               33.66          26   \n",
              "1       2323              Orduspor                 NaN           0   \n",
              "2       1387        Acn Siena 1904                4.32          30   \n",
              "3       3592    Kryvbas Kryvyi Rig                2.95          24   \n",
              "4       1071        Wigan Athletic               12.38          29   \n",
              "..       ...                   ...                 ...         ...   \n",
              "396      969       Montpellier Hsc               99.86          26   \n",
              "397     1041        Olympique Lyon              298.04          28   \n",
              "398     1421           Stade Reims              118.40          30   \n",
              "399      417             Ogc Nizza              221.63          26   \n",
              "400      667  Rc Strassburg Alsace              103.10          24   \n",
              "\n",
              "     average_age          coach_name  \n",
              "0           25.9     Brian McDermott  \n",
              "1            NaN        Héctor Cúper  \n",
              "2           26.2         Serse Cosmi  \n",
              "3           24.5          Oleg Taran  \n",
              "4           26.5    Roberto Martínez  \n",
              "..           ...                 ...  \n",
              "396         25.3  Olivier Dall'Oglio  \n",
              "397         24.6          Peter Bosz  \n",
              "398         23.9        Óscar García  \n",
              "399         24.5  Christophe Galtier  \n",
              "400         26.3      Julien Stéphan  \n",
              "\n",
              "[401 rows x 6 columns]"
            ],
            "text/html": [
              "\n",
              "  <div id=\"df-abcf8e02-e4af-4204-bcc6-a7fcc8312baf\">\n",
              "    <div class=\"colab-df-container\">\n",
              "      <div>\n",
              "<style scoped>\n",
              "    .dataframe tbody tr th:only-of-type {\n",
              "        vertical-align: middle;\n",
              "    }\n",
              "\n",
              "    .dataframe tbody tr th {\n",
              "        vertical-align: top;\n",
              "    }\n",
              "\n",
              "    .dataframe thead th {\n",
              "        text-align: right;\n",
              "    }\n",
              "</style>\n",
              "<table border=\"1\" class=\"dataframe\">\n",
              "  <thead>\n",
              "    <tr style=\"text-align: right;\">\n",
              "      <th></th>\n",
              "      <th>club_id</th>\n",
              "      <th>club_name</th>\n",
              "      <th>total_market_value</th>\n",
              "      <th>squad_size</th>\n",
              "      <th>average_age</th>\n",
              "      <th>coach_name</th>\n",
              "    </tr>\n",
              "  </thead>\n",
              "  <tbody>\n",
              "    <tr>\n",
              "      <th>0</th>\n",
              "      <td>1032</td>\n",
              "      <td>Fc Reading</td>\n",
              "      <td>33.66</td>\n",
              "      <td>26</td>\n",
              "      <td>25.9</td>\n",
              "      <td>Brian McDermott</td>\n",
              "    </tr>\n",
              "    <tr>\n",
              "      <th>1</th>\n",
              "      <td>2323</td>\n",
              "      <td>Orduspor</td>\n",
              "      <td>NaN</td>\n",
              "      <td>0</td>\n",
              "      <td>NaN</td>\n",
              "      <td>Héctor Cúper</td>\n",
              "    </tr>\n",
              "    <tr>\n",
              "      <th>2</th>\n",
              "      <td>1387</td>\n",
              "      <td>Acn Siena 1904</td>\n",
              "      <td>4.32</td>\n",
              "      <td>30</td>\n",
              "      <td>26.2</td>\n",
              "      <td>Serse Cosmi</td>\n",
              "    </tr>\n",
              "    <tr>\n",
              "      <th>3</th>\n",
              "      <td>3592</td>\n",
              "      <td>Kryvbas Kryvyi Rig</td>\n",
              "      <td>2.95</td>\n",
              "      <td>24</td>\n",
              "      <td>24.5</td>\n",
              "      <td>Oleg Taran</td>\n",
              "    </tr>\n",
              "    <tr>\n",
              "      <th>4</th>\n",
              "      <td>1071</td>\n",
              "      <td>Wigan Athletic</td>\n",
              "      <td>12.38</td>\n",
              "      <td>29</td>\n",
              "      <td>26.5</td>\n",
              "      <td>Roberto Martínez</td>\n",
              "    </tr>\n",
              "    <tr>\n",
              "      <th>...</th>\n",
              "      <td>...</td>\n",
              "      <td>...</td>\n",
              "      <td>...</td>\n",
              "      <td>...</td>\n",
              "      <td>...</td>\n",
              "      <td>...</td>\n",
              "    </tr>\n",
              "    <tr>\n",
              "      <th>396</th>\n",
              "      <td>969</td>\n",
              "      <td>Montpellier Hsc</td>\n",
              "      <td>99.86</td>\n",
              "      <td>26</td>\n",
              "      <td>25.3</td>\n",
              "      <td>Olivier Dall'Oglio</td>\n",
              "    </tr>\n",
              "    <tr>\n",
              "      <th>397</th>\n",
              "      <td>1041</td>\n",
              "      <td>Olympique Lyon</td>\n",
              "      <td>298.04</td>\n",
              "      <td>28</td>\n",
              "      <td>24.6</td>\n",
              "      <td>Peter Bosz</td>\n",
              "    </tr>\n",
              "    <tr>\n",
              "      <th>398</th>\n",
              "      <td>1421</td>\n",
              "      <td>Stade Reims</td>\n",
              "      <td>118.40</td>\n",
              "      <td>30</td>\n",
              "      <td>23.9</td>\n",
              "      <td>Óscar García</td>\n",
              "    </tr>\n",
              "    <tr>\n",
              "      <th>399</th>\n",
              "      <td>417</td>\n",
              "      <td>Ogc Nizza</td>\n",
              "      <td>221.63</td>\n",
              "      <td>26</td>\n",
              "      <td>24.5</td>\n",
              "      <td>Christophe Galtier</td>\n",
              "    </tr>\n",
              "    <tr>\n",
              "      <th>400</th>\n",
              "      <td>667</td>\n",
              "      <td>Rc Strassburg Alsace</td>\n",
              "      <td>103.10</td>\n",
              "      <td>24</td>\n",
              "      <td>26.3</td>\n",
              "      <td>Julien Stéphan</td>\n",
              "    </tr>\n",
              "  </tbody>\n",
              "</table>\n",
              "<p>401 rows × 6 columns</p>\n",
              "</div>\n",
              "      <button class=\"colab-df-convert\" onclick=\"convertToInteractive('df-abcf8e02-e4af-4204-bcc6-a7fcc8312baf')\"\n",
              "              title=\"Convert this dataframe to an interactive table.\"\n",
              "              style=\"display:none;\">\n",
              "        \n",
              "  <svg xmlns=\"http://www.w3.org/2000/svg\" height=\"24px\"viewBox=\"0 0 24 24\"\n",
              "       width=\"24px\">\n",
              "    <path d=\"M0 0h24v24H0V0z\" fill=\"none\"/>\n",
              "    <path d=\"M18.56 5.44l.94 2.06.94-2.06 2.06-.94-2.06-.94-.94-2.06-.94 2.06-2.06.94zm-11 1L8.5 8.5l.94-2.06 2.06-.94-2.06-.94L8.5 2.5l-.94 2.06-2.06.94zm10 10l.94 2.06.94-2.06 2.06-.94-2.06-.94-.94-2.06-.94 2.06-2.06.94z\"/><path d=\"M17.41 7.96l-1.37-1.37c-.4-.4-.92-.59-1.43-.59-.52 0-1.04.2-1.43.59L10.3 9.45l-7.72 7.72c-.78.78-.78 2.05 0 2.83L4 21.41c.39.39.9.59 1.41.59.51 0 1.02-.2 1.41-.59l7.78-7.78 2.81-2.81c.8-.78.8-2.07 0-2.86zM5.41 20L4 18.59l7.72-7.72 1.47 1.35L5.41 20z\"/>\n",
              "  </svg>\n",
              "      </button>\n",
              "      \n",
              "  <style>\n",
              "    .colab-df-container {\n",
              "      display:flex;\n",
              "      flex-wrap:wrap;\n",
              "      gap: 12px;\n",
              "    }\n",
              "\n",
              "    .colab-df-convert {\n",
              "      background-color: #E8F0FE;\n",
              "      border: none;\n",
              "      border-radius: 50%;\n",
              "      cursor: pointer;\n",
              "      display: none;\n",
              "      fill: #1967D2;\n",
              "      height: 32px;\n",
              "      padding: 0 0 0 0;\n",
              "      width: 32px;\n",
              "    }\n",
              "\n",
              "    .colab-df-convert:hover {\n",
              "      background-color: #E2EBFA;\n",
              "      box-shadow: 0px 1px 2px rgba(60, 64, 67, 0.3), 0px 1px 3px 1px rgba(60, 64, 67, 0.15);\n",
              "      fill: #174EA6;\n",
              "    }\n",
              "\n",
              "    [theme=dark] .colab-df-convert {\n",
              "      background-color: #3B4455;\n",
              "      fill: #D2E3FC;\n",
              "    }\n",
              "\n",
              "    [theme=dark] .colab-df-convert:hover {\n",
              "      background-color: #434B5C;\n",
              "      box-shadow: 0px 1px 3px 1px rgba(0, 0, 0, 0.15);\n",
              "      filter: drop-shadow(0px 1px 2px rgba(0, 0, 0, 0.3));\n",
              "      fill: #FFFFFF;\n",
              "    }\n",
              "  </style>\n",
              "\n",
              "      <script>\n",
              "        const buttonEl =\n",
              "          document.querySelector('#df-abcf8e02-e4af-4204-bcc6-a7fcc8312baf button.colab-df-convert');\n",
              "        buttonEl.style.display =\n",
              "          google.colab.kernel.accessAllowed ? 'block' : 'none';\n",
              "\n",
              "        async function convertToInteractive(key) {\n",
              "          const element = document.querySelector('#df-abcf8e02-e4af-4204-bcc6-a7fcc8312baf');\n",
              "          const dataTable =\n",
              "            await google.colab.kernel.invokeFunction('convertToInteractive',\n",
              "                                                     [key], {});\n",
              "          if (!dataTable) return;\n",
              "\n",
              "          const docLinkHtml = 'Like what you see? Visit the ' +\n",
              "            '<a target=\"_blank\" href=https://colab.research.google.com/notebooks/data_table.ipynb>data table notebook</a>'\n",
              "            + ' to learn more about interactive tables.';\n",
              "          element.innerHTML = '';\n",
              "          dataTable['output_type'] = 'display_data';\n",
              "          await google.colab.output.renderOutput(dataTable, element);\n",
              "          const docLink = document.createElement('div');\n",
              "          docLink.innerHTML = docLinkHtml;\n",
              "          element.appendChild(docLink);\n",
              "        }\n",
              "      </script>\n",
              "    </div>\n",
              "  </div>\n",
              "  "
            ]
          },
          "metadata": {},
          "execution_count": 62
        }
      ]
    },
    {
      "cell_type": "markdown",
      "source": [
        "# Cleaning Games Dataset"
      ],
      "metadata": {
        "id": "mCY3Ngttli8y"
      }
    },
    {
      "cell_type": "code",
      "source": [
        "games_df = pd.read_csv(\"games.csv\")"
      ],
      "metadata": {
        "id": "wIuX-Q9bk19x"
      },
      "execution_count": 72,
      "outputs": []
    },
    {
      "cell_type": "code",
      "source": [
        "games_df.columns"
      ],
      "metadata": {
        "colab": {
          "base_uri": "https://localhost:8080/"
        },
        "id": "lxijTFhVmP0d",
        "outputId": "37102e88-6b7f-44d1-d0d9-a5f5ef281035"
      },
      "execution_count": 73,
      "outputs": [
        {
          "output_type": "execute_result",
          "data": {
            "text/plain": [
              "Index(['game_id', 'competition_id', 'competition_type', 'season', 'round',\n",
              "       'date', 'home_club_id', 'away_club_id', 'home_club_goals',\n",
              "       'away_club_goals', 'aggregate', 'home_club_position',\n",
              "       'away_club_position', 'club_home_name', 'club_away_name',\n",
              "       'home_club_manager_name', 'away_club_manager_name', 'stadium',\n",
              "       'attendance', 'referee', 'url'],\n",
              "      dtype='object')"
            ]
          },
          "metadata": {},
          "execution_count": 73
        }
      ]
    },
    {
      "cell_type": "code",
      "source": [
        "games_df"
      ],
      "metadata": {
        "colab": {
          "base_uri": "https://localhost:8080/",
          "height": 423
        },
        "id": "jGQ9WSl0mZ95",
        "outputId": "a0e70896-fbf2-448d-8105-89ea681ca446"
      },
      "execution_count": 78,
      "outputs": [
        {
          "output_type": "execute_result",
          "data": {
            "text/plain": [
              "       game_id competition_id  season               round        date  \\\n",
              "0      2229332            DFL    2012               Final  2012-08-12   \n",
              "1      2244388            SUC    2012       final 1st leg  2012-08-22   \n",
              "2      2269557            CDR    2012   4th round 2nd leg  2012-11-28   \n",
              "3      2254432            CDR    2012  First Round Replay  2012-08-30   \n",
              "4      2221759            DFB    2012         First Round  2012-08-20   \n",
              "...        ...            ...     ...                 ...         ...   \n",
              "61192  3928809            GRP    2022         Third Round  2022-10-05   \n",
              "61193  3942778            GRP    2022         Fifth Round  2022-10-19   \n",
              "61194  3962963            GRP    2022     last 16 2nd leg  2023-01-10   \n",
              "61195  3962951            GRP    2022     last 16 2nd leg  2023-01-11   \n",
              "61196  3921098            GRP    2022        Second Round  2022-09-21   \n",
              "\n",
              "       home_club_id  away_club_id  home_club_goals  away_club_goals aggregate  \\\n",
              "0                27            16                2                1       2:1   \n",
              "1               131           418                3                2       3:2   \n",
              "2              3709          4032                0                0       0:0   \n",
              "3             21322          7077                1                0       1:0   \n",
              "4               109            27                0                4       0:4   \n",
              "...             ...           ...              ...              ...       ...   \n",
              "61192         21600          4585                0                1       0:1   \n",
              "61193          3062          2079                1                0       1:0   \n",
              "61194          1091             9                2                0       2:0   \n",
              "61195          3060           683                2                2       2:2   \n",
              "61196          4592         74281                0                3       0:3   \n",
              "\n",
              "                          stadium  attendance  \n",
              "0                   Allianz Arena       69000  \n",
              "1                Spotify Camp Nou       91728  \n",
              "2          Coliseum Alfonso Pérez        2000  \n",
              "3                       El Palmar           0  \n",
              "4                     Jahnstadion       12500  \n",
              "...                           ...         ...  \n",
              "61192       Gipedo Neas Efkarpias           0  \n",
              "61193  Grigoris Lambrakis Stadium           0  \n",
              "61194              Toumba Stadium           0  \n",
              "61195          Stadio Peristeriou           0  \n",
              "61196     Dimotiko Stadio Naousas           0  \n",
              "\n",
              "[61197 rows x 12 columns]"
            ],
            "text/html": [
              "\n",
              "  <div id=\"df-4981c828-b376-4d1b-8c42-aec945654830\">\n",
              "    <div class=\"colab-df-container\">\n",
              "      <div>\n",
              "<style scoped>\n",
              "    .dataframe tbody tr th:only-of-type {\n",
              "        vertical-align: middle;\n",
              "    }\n",
              "\n",
              "    .dataframe tbody tr th {\n",
              "        vertical-align: top;\n",
              "    }\n",
              "\n",
              "    .dataframe thead th {\n",
              "        text-align: right;\n",
              "    }\n",
              "</style>\n",
              "<table border=\"1\" class=\"dataframe\">\n",
              "  <thead>\n",
              "    <tr style=\"text-align: right;\">\n",
              "      <th></th>\n",
              "      <th>game_id</th>\n",
              "      <th>competition_id</th>\n",
              "      <th>season</th>\n",
              "      <th>round</th>\n",
              "      <th>date</th>\n",
              "      <th>home_club_id</th>\n",
              "      <th>away_club_id</th>\n",
              "      <th>home_club_goals</th>\n",
              "      <th>away_club_goals</th>\n",
              "      <th>aggregate</th>\n",
              "      <th>stadium</th>\n",
              "      <th>attendance</th>\n",
              "    </tr>\n",
              "  </thead>\n",
              "  <tbody>\n",
              "    <tr>\n",
              "      <th>0</th>\n",
              "      <td>2229332</td>\n",
              "      <td>DFL</td>\n",
              "      <td>2012</td>\n",
              "      <td>Final</td>\n",
              "      <td>2012-08-12</td>\n",
              "      <td>27</td>\n",
              "      <td>16</td>\n",
              "      <td>2</td>\n",
              "      <td>1</td>\n",
              "      <td>2:1</td>\n",
              "      <td>Allianz Arena</td>\n",
              "      <td>69000</td>\n",
              "    </tr>\n",
              "    <tr>\n",
              "      <th>1</th>\n",
              "      <td>2244388</td>\n",
              "      <td>SUC</td>\n",
              "      <td>2012</td>\n",
              "      <td>final 1st leg</td>\n",
              "      <td>2012-08-22</td>\n",
              "      <td>131</td>\n",
              "      <td>418</td>\n",
              "      <td>3</td>\n",
              "      <td>2</td>\n",
              "      <td>3:2</td>\n",
              "      <td>Spotify Camp Nou</td>\n",
              "      <td>91728</td>\n",
              "    </tr>\n",
              "    <tr>\n",
              "      <th>2</th>\n",
              "      <td>2269557</td>\n",
              "      <td>CDR</td>\n",
              "      <td>2012</td>\n",
              "      <td>4th round 2nd leg</td>\n",
              "      <td>2012-11-28</td>\n",
              "      <td>3709</td>\n",
              "      <td>4032</td>\n",
              "      <td>0</td>\n",
              "      <td>0</td>\n",
              "      <td>0:0</td>\n",
              "      <td>Coliseum Alfonso Pérez</td>\n",
              "      <td>2000</td>\n",
              "    </tr>\n",
              "    <tr>\n",
              "      <th>3</th>\n",
              "      <td>2254432</td>\n",
              "      <td>CDR</td>\n",
              "      <td>2012</td>\n",
              "      <td>First Round Replay</td>\n",
              "      <td>2012-08-30</td>\n",
              "      <td>21322</td>\n",
              "      <td>7077</td>\n",
              "      <td>1</td>\n",
              "      <td>0</td>\n",
              "      <td>1:0</td>\n",
              "      <td>El Palmar</td>\n",
              "      <td>0</td>\n",
              "    </tr>\n",
              "    <tr>\n",
              "      <th>4</th>\n",
              "      <td>2221759</td>\n",
              "      <td>DFB</td>\n",
              "      <td>2012</td>\n",
              "      <td>First Round</td>\n",
              "      <td>2012-08-20</td>\n",
              "      <td>109</td>\n",
              "      <td>27</td>\n",
              "      <td>0</td>\n",
              "      <td>4</td>\n",
              "      <td>0:4</td>\n",
              "      <td>Jahnstadion</td>\n",
              "      <td>12500</td>\n",
              "    </tr>\n",
              "    <tr>\n",
              "      <th>...</th>\n",
              "      <td>...</td>\n",
              "      <td>...</td>\n",
              "      <td>...</td>\n",
              "      <td>...</td>\n",
              "      <td>...</td>\n",
              "      <td>...</td>\n",
              "      <td>...</td>\n",
              "      <td>...</td>\n",
              "      <td>...</td>\n",
              "      <td>...</td>\n",
              "      <td>...</td>\n",
              "      <td>...</td>\n",
              "    </tr>\n",
              "    <tr>\n",
              "      <th>61192</th>\n",
              "      <td>3928809</td>\n",
              "      <td>GRP</td>\n",
              "      <td>2022</td>\n",
              "      <td>Third Round</td>\n",
              "      <td>2022-10-05</td>\n",
              "      <td>21600</td>\n",
              "      <td>4585</td>\n",
              "      <td>0</td>\n",
              "      <td>1</td>\n",
              "      <td>0:1</td>\n",
              "      <td>Gipedo Neas Efkarpias</td>\n",
              "      <td>0</td>\n",
              "    </tr>\n",
              "    <tr>\n",
              "      <th>61193</th>\n",
              "      <td>3942778</td>\n",
              "      <td>GRP</td>\n",
              "      <td>2022</td>\n",
              "      <td>Fifth Round</td>\n",
              "      <td>2022-10-19</td>\n",
              "      <td>3062</td>\n",
              "      <td>2079</td>\n",
              "      <td>1</td>\n",
              "      <td>0</td>\n",
              "      <td>1:0</td>\n",
              "      <td>Grigoris Lambrakis Stadium</td>\n",
              "      <td>0</td>\n",
              "    </tr>\n",
              "    <tr>\n",
              "      <th>61194</th>\n",
              "      <td>3962963</td>\n",
              "      <td>GRP</td>\n",
              "      <td>2022</td>\n",
              "      <td>last 16 2nd leg</td>\n",
              "      <td>2023-01-10</td>\n",
              "      <td>1091</td>\n",
              "      <td>9</td>\n",
              "      <td>2</td>\n",
              "      <td>0</td>\n",
              "      <td>2:0</td>\n",
              "      <td>Toumba Stadium</td>\n",
              "      <td>0</td>\n",
              "    </tr>\n",
              "    <tr>\n",
              "      <th>61195</th>\n",
              "      <td>3962951</td>\n",
              "      <td>GRP</td>\n",
              "      <td>2022</td>\n",
              "      <td>last 16 2nd leg</td>\n",
              "      <td>2023-01-11</td>\n",
              "      <td>3060</td>\n",
              "      <td>683</td>\n",
              "      <td>2</td>\n",
              "      <td>2</td>\n",
              "      <td>2:2</td>\n",
              "      <td>Stadio Peristeriou</td>\n",
              "      <td>0</td>\n",
              "    </tr>\n",
              "    <tr>\n",
              "      <th>61196</th>\n",
              "      <td>3921098</td>\n",
              "      <td>GRP</td>\n",
              "      <td>2022</td>\n",
              "      <td>Second Round</td>\n",
              "      <td>2022-09-21</td>\n",
              "      <td>4592</td>\n",
              "      <td>74281</td>\n",
              "      <td>0</td>\n",
              "      <td>3</td>\n",
              "      <td>0:3</td>\n",
              "      <td>Dimotiko Stadio Naousas</td>\n",
              "      <td>0</td>\n",
              "    </tr>\n",
              "  </tbody>\n",
              "</table>\n",
              "<p>61197 rows × 12 columns</p>\n",
              "</div>\n",
              "      <button class=\"colab-df-convert\" onclick=\"convertToInteractive('df-4981c828-b376-4d1b-8c42-aec945654830')\"\n",
              "              title=\"Convert this dataframe to an interactive table.\"\n",
              "              style=\"display:none;\">\n",
              "        \n",
              "  <svg xmlns=\"http://www.w3.org/2000/svg\" height=\"24px\"viewBox=\"0 0 24 24\"\n",
              "       width=\"24px\">\n",
              "    <path d=\"M0 0h24v24H0V0z\" fill=\"none\"/>\n",
              "    <path d=\"M18.56 5.44l.94 2.06.94-2.06 2.06-.94-2.06-.94-.94-2.06-.94 2.06-2.06.94zm-11 1L8.5 8.5l.94-2.06 2.06-.94-2.06-.94L8.5 2.5l-.94 2.06-2.06.94zm10 10l.94 2.06.94-2.06 2.06-.94-2.06-.94-.94-2.06-.94 2.06-2.06.94z\"/><path d=\"M17.41 7.96l-1.37-1.37c-.4-.4-.92-.59-1.43-.59-.52 0-1.04.2-1.43.59L10.3 9.45l-7.72 7.72c-.78.78-.78 2.05 0 2.83L4 21.41c.39.39.9.59 1.41.59.51 0 1.02-.2 1.41-.59l7.78-7.78 2.81-2.81c.8-.78.8-2.07 0-2.86zM5.41 20L4 18.59l7.72-7.72 1.47 1.35L5.41 20z\"/>\n",
              "  </svg>\n",
              "      </button>\n",
              "      \n",
              "  <style>\n",
              "    .colab-df-container {\n",
              "      display:flex;\n",
              "      flex-wrap:wrap;\n",
              "      gap: 12px;\n",
              "    }\n",
              "\n",
              "    .colab-df-convert {\n",
              "      background-color: #E8F0FE;\n",
              "      border: none;\n",
              "      border-radius: 50%;\n",
              "      cursor: pointer;\n",
              "      display: none;\n",
              "      fill: #1967D2;\n",
              "      height: 32px;\n",
              "      padding: 0 0 0 0;\n",
              "      width: 32px;\n",
              "    }\n",
              "\n",
              "    .colab-df-convert:hover {\n",
              "      background-color: #E2EBFA;\n",
              "      box-shadow: 0px 1px 2px rgba(60, 64, 67, 0.3), 0px 1px 3px 1px rgba(60, 64, 67, 0.15);\n",
              "      fill: #174EA6;\n",
              "    }\n",
              "\n",
              "    [theme=dark] .colab-df-convert {\n",
              "      background-color: #3B4455;\n",
              "      fill: #D2E3FC;\n",
              "    }\n",
              "\n",
              "    [theme=dark] .colab-df-convert:hover {\n",
              "      background-color: #434B5C;\n",
              "      box-shadow: 0px 1px 3px 1px rgba(0, 0, 0, 0.15);\n",
              "      filter: drop-shadow(0px 1px 2px rgba(0, 0, 0, 0.3));\n",
              "      fill: #FFFFFF;\n",
              "    }\n",
              "  </style>\n",
              "\n",
              "      <script>\n",
              "        const buttonEl =\n",
              "          document.querySelector('#df-4981c828-b376-4d1b-8c42-aec945654830 button.colab-df-convert');\n",
              "        buttonEl.style.display =\n",
              "          google.colab.kernel.accessAllowed ? 'block' : 'none';\n",
              "\n",
              "        async function convertToInteractive(key) {\n",
              "          const element = document.querySelector('#df-4981c828-b376-4d1b-8c42-aec945654830');\n",
              "          const dataTable =\n",
              "            await google.colab.kernel.invokeFunction('convertToInteractive',\n",
              "                                                     [key], {});\n",
              "          if (!dataTable) return;\n",
              "\n",
              "          const docLinkHtml = 'Like what you see? Visit the ' +\n",
              "            '<a target=\"_blank\" href=https://colab.research.google.com/notebooks/data_table.ipynb>data table notebook</a>'\n",
              "            + ' to learn more about interactive tables.';\n",
              "          element.innerHTML = '';\n",
              "          dataTable['output_type'] = 'display_data';\n",
              "          await google.colab.output.renderOutput(dataTable, element);\n",
              "          const docLink = document.createElement('div');\n",
              "          docLink.innerHTML = docLinkHtml;\n",
              "          element.appendChild(docLink);\n",
              "        }\n",
              "      </script>\n",
              "    </div>\n",
              "  </div>\n",
              "  "
            ]
          },
          "metadata": {},
          "execution_count": 78
        }
      ]
    },
    {
      "cell_type": "code",
      "source": [
        "games_df = games_df.drop(columns=[\"competition_type\", \"home_club_position\", \"away_club_position\", \"club_home_name\", \"club_away_name\",\n",
        "       \"home_club_manager_name\", \"away_club_manager_name\", \"referee\", \"url\"])\n",
        "len(games_df)"
      ],
      "metadata": {
        "colab": {
          "base_uri": "https://localhost:8080/",
          "height": 374
        },
        "id": "jP481qeLmRwf",
        "outputId": "0df97bb9-229a-44f1-eeda-8b9e93fcd3cf"
      },
      "execution_count": 76,
      "outputs": [
        {
          "output_type": "error",
          "ename": "KeyError",
          "evalue": "ignored",
          "traceback": [
            "\u001b[0;31m---------------------------------------------------------------------------\u001b[0m",
            "\u001b[0;31mKeyError\u001b[0m                                  Traceback (most recent call last)",
            "\u001b[0;32m<ipython-input-76-dbecff48a81f>\u001b[0m in \u001b[0;36m<cell line: 1>\u001b[0;34m()\u001b[0m\n\u001b[0;32m----> 1\u001b[0;31m games_df = games_df.drop(columns=[\"competition_type\", \"home_club_position\", \"away_club_position\", \"club_home_name\", \"club_away_name\",\n\u001b[0m\u001b[1;32m      2\u001b[0m        \"home_club_manager_name\", \"away_club_manager_name\", \"referee\", \"url\"])\n\u001b[1;32m      3\u001b[0m \u001b[0mlen\u001b[0m\u001b[0;34m(\u001b[0m\u001b[0mgames_df\u001b[0m\u001b[0;34m)\u001b[0m\u001b[0;34m\u001b[0m\u001b[0;34m\u001b[0m\u001b[0m\n",
            "\u001b[0;32m/usr/local/lib/python3.9/dist-packages/pandas/util/_decorators.py\u001b[0m in \u001b[0;36mwrapper\u001b[0;34m(*args, **kwargs)\u001b[0m\n\u001b[1;32m    309\u001b[0m                     \u001b[0mstacklevel\u001b[0m\u001b[0;34m=\u001b[0m\u001b[0mstacklevel\u001b[0m\u001b[0;34m,\u001b[0m\u001b[0;34m\u001b[0m\u001b[0;34m\u001b[0m\u001b[0m\n\u001b[1;32m    310\u001b[0m                 )\n\u001b[0;32m--> 311\u001b[0;31m             \u001b[0;32mreturn\u001b[0m \u001b[0mfunc\u001b[0m\u001b[0;34m(\u001b[0m\u001b[0;34m*\u001b[0m\u001b[0margs\u001b[0m\u001b[0;34m,\u001b[0m \u001b[0;34m**\u001b[0m\u001b[0mkwargs\u001b[0m\u001b[0;34m)\u001b[0m\u001b[0;34m\u001b[0m\u001b[0;34m\u001b[0m\u001b[0m\n\u001b[0m\u001b[1;32m    312\u001b[0m \u001b[0;34m\u001b[0m\u001b[0m\n\u001b[1;32m    313\u001b[0m         \u001b[0;32mreturn\u001b[0m \u001b[0mwrapper\u001b[0m\u001b[0;34m\u001b[0m\u001b[0;34m\u001b[0m\u001b[0m\n",
            "\u001b[0;32m/usr/local/lib/python3.9/dist-packages/pandas/core/frame.py\u001b[0m in \u001b[0;36mdrop\u001b[0;34m(self, labels, axis, index, columns, level, inplace, errors)\u001b[0m\n\u001b[1;32m   4955\u001b[0m                 \u001b[0mweight\u001b[0m  \u001b[0;36m1.0\u001b[0m     \u001b[0;36m0.8\u001b[0m\u001b[0;34m\u001b[0m\u001b[0;34m\u001b[0m\u001b[0m\n\u001b[1;32m   4956\u001b[0m         \"\"\"\n\u001b[0;32m-> 4957\u001b[0;31m         return super().drop(\n\u001b[0m\u001b[1;32m   4958\u001b[0m             \u001b[0mlabels\u001b[0m\u001b[0;34m=\u001b[0m\u001b[0mlabels\u001b[0m\u001b[0;34m,\u001b[0m\u001b[0;34m\u001b[0m\u001b[0;34m\u001b[0m\u001b[0m\n\u001b[1;32m   4959\u001b[0m             \u001b[0maxis\u001b[0m\u001b[0;34m=\u001b[0m\u001b[0maxis\u001b[0m\u001b[0;34m,\u001b[0m\u001b[0;34m\u001b[0m\u001b[0;34m\u001b[0m\u001b[0m\n",
            "\u001b[0;32m/usr/local/lib/python3.9/dist-packages/pandas/core/generic.py\u001b[0m in \u001b[0;36mdrop\u001b[0;34m(self, labels, axis, index, columns, level, inplace, errors)\u001b[0m\n\u001b[1;32m   4265\u001b[0m         \u001b[0;32mfor\u001b[0m \u001b[0maxis\u001b[0m\u001b[0;34m,\u001b[0m \u001b[0mlabels\u001b[0m \u001b[0;32min\u001b[0m \u001b[0maxes\u001b[0m\u001b[0;34m.\u001b[0m\u001b[0mitems\u001b[0m\u001b[0;34m(\u001b[0m\u001b[0;34m)\u001b[0m\u001b[0;34m:\u001b[0m\u001b[0;34m\u001b[0m\u001b[0;34m\u001b[0m\u001b[0m\n\u001b[1;32m   4266\u001b[0m             \u001b[0;32mif\u001b[0m \u001b[0mlabels\u001b[0m \u001b[0;32mis\u001b[0m \u001b[0;32mnot\u001b[0m \u001b[0;32mNone\u001b[0m\u001b[0;34m:\u001b[0m\u001b[0;34m\u001b[0m\u001b[0;34m\u001b[0m\u001b[0m\n\u001b[0;32m-> 4267\u001b[0;31m                 \u001b[0mobj\u001b[0m \u001b[0;34m=\u001b[0m \u001b[0mobj\u001b[0m\u001b[0;34m.\u001b[0m\u001b[0m_drop_axis\u001b[0m\u001b[0;34m(\u001b[0m\u001b[0mlabels\u001b[0m\u001b[0;34m,\u001b[0m \u001b[0maxis\u001b[0m\u001b[0;34m,\u001b[0m \u001b[0mlevel\u001b[0m\u001b[0;34m=\u001b[0m\u001b[0mlevel\u001b[0m\u001b[0;34m,\u001b[0m \u001b[0merrors\u001b[0m\u001b[0;34m=\u001b[0m\u001b[0merrors\u001b[0m\u001b[0;34m)\u001b[0m\u001b[0;34m\u001b[0m\u001b[0;34m\u001b[0m\u001b[0m\n\u001b[0m\u001b[1;32m   4268\u001b[0m \u001b[0;34m\u001b[0m\u001b[0m\n\u001b[1;32m   4269\u001b[0m         \u001b[0;32mif\u001b[0m \u001b[0minplace\u001b[0m\u001b[0;34m:\u001b[0m\u001b[0;34m\u001b[0m\u001b[0;34m\u001b[0m\u001b[0m\n",
            "\u001b[0;32m/usr/local/lib/python3.9/dist-packages/pandas/core/generic.py\u001b[0m in \u001b[0;36m_drop_axis\u001b[0;34m(self, labels, axis, level, errors, consolidate, only_slice)\u001b[0m\n\u001b[1;32m   4309\u001b[0m                 \u001b[0mnew_axis\u001b[0m \u001b[0;34m=\u001b[0m \u001b[0maxis\u001b[0m\u001b[0;34m.\u001b[0m\u001b[0mdrop\u001b[0m\u001b[0;34m(\u001b[0m\u001b[0mlabels\u001b[0m\u001b[0;34m,\u001b[0m \u001b[0mlevel\u001b[0m\u001b[0;34m=\u001b[0m\u001b[0mlevel\u001b[0m\u001b[0;34m,\u001b[0m \u001b[0merrors\u001b[0m\u001b[0;34m=\u001b[0m\u001b[0merrors\u001b[0m\u001b[0;34m)\u001b[0m\u001b[0;34m\u001b[0m\u001b[0;34m\u001b[0m\u001b[0m\n\u001b[1;32m   4310\u001b[0m             \u001b[0;32melse\u001b[0m\u001b[0;34m:\u001b[0m\u001b[0;34m\u001b[0m\u001b[0;34m\u001b[0m\u001b[0m\n\u001b[0;32m-> 4311\u001b[0;31m                 \u001b[0mnew_axis\u001b[0m \u001b[0;34m=\u001b[0m \u001b[0maxis\u001b[0m\u001b[0;34m.\u001b[0m\u001b[0mdrop\u001b[0m\u001b[0;34m(\u001b[0m\u001b[0mlabels\u001b[0m\u001b[0;34m,\u001b[0m \u001b[0merrors\u001b[0m\u001b[0;34m=\u001b[0m\u001b[0merrors\u001b[0m\u001b[0;34m)\u001b[0m\u001b[0;34m\u001b[0m\u001b[0;34m\u001b[0m\u001b[0m\n\u001b[0m\u001b[1;32m   4312\u001b[0m             \u001b[0mindexer\u001b[0m \u001b[0;34m=\u001b[0m \u001b[0maxis\u001b[0m\u001b[0;34m.\u001b[0m\u001b[0mget_indexer\u001b[0m\u001b[0;34m(\u001b[0m\u001b[0mnew_axis\u001b[0m\u001b[0;34m)\u001b[0m\u001b[0;34m\u001b[0m\u001b[0;34m\u001b[0m\u001b[0m\n\u001b[1;32m   4313\u001b[0m \u001b[0;34m\u001b[0m\u001b[0m\n",
            "\u001b[0;32m/usr/local/lib/python3.9/dist-packages/pandas/core/indexes/base.py\u001b[0m in \u001b[0;36mdrop\u001b[0;34m(self, labels, errors)\u001b[0m\n\u001b[1;32m   6659\u001b[0m         \u001b[0;32mif\u001b[0m \u001b[0mmask\u001b[0m\u001b[0;34m.\u001b[0m\u001b[0many\u001b[0m\u001b[0;34m(\u001b[0m\u001b[0;34m)\u001b[0m\u001b[0;34m:\u001b[0m\u001b[0;34m\u001b[0m\u001b[0;34m\u001b[0m\u001b[0m\n\u001b[1;32m   6660\u001b[0m             \u001b[0;32mif\u001b[0m \u001b[0merrors\u001b[0m \u001b[0;34m!=\u001b[0m \u001b[0;34m\"ignore\"\u001b[0m\u001b[0;34m:\u001b[0m\u001b[0;34m\u001b[0m\u001b[0;34m\u001b[0m\u001b[0m\n\u001b[0;32m-> 6661\u001b[0;31m                 \u001b[0;32mraise\u001b[0m \u001b[0mKeyError\u001b[0m\u001b[0;34m(\u001b[0m\u001b[0;34mf\"{list(labels[mask])} not found in axis\"\u001b[0m\u001b[0;34m)\u001b[0m\u001b[0;34m\u001b[0m\u001b[0;34m\u001b[0m\u001b[0m\n\u001b[0m\u001b[1;32m   6662\u001b[0m             \u001b[0mindexer\u001b[0m \u001b[0;34m=\u001b[0m \u001b[0mindexer\u001b[0m\u001b[0;34m[\u001b[0m\u001b[0;34m~\u001b[0m\u001b[0mmask\u001b[0m\u001b[0;34m]\u001b[0m\u001b[0;34m\u001b[0m\u001b[0;34m\u001b[0m\u001b[0m\n\u001b[1;32m   6663\u001b[0m         \u001b[0;32mreturn\u001b[0m \u001b[0mself\u001b[0m\u001b[0;34m.\u001b[0m\u001b[0mdelete\u001b[0m\u001b[0;34m(\u001b[0m\u001b[0mindexer\u001b[0m\u001b[0;34m)\u001b[0m\u001b[0;34m\u001b[0m\u001b[0;34m\u001b[0m\u001b[0m\n",
            "\u001b[0;31mKeyError\u001b[0m: \"['competition_type', 'home_club_position', 'away_club_position', 'club_home_name', 'club_away_name', 'home_club_manager_name', 'away_club_manager_name', 'referee', 'url'] not found in axis\""
          ]
        }
      ]
    },
    {
      "cell_type": "code",
      "source": [
        "games_df = games_df.dropna(subset=[\"game_id\", \"home_club_id\", \"away_club_id\", \"date\", \"round\"])\n",
        "len(games_df)"
      ],
      "metadata": {
        "colab": {
          "base_uri": "https://localhost:8080/"
        },
        "id": "70vkNJqbm1C4",
        "outputId": "a3c65baa-5cee-4827-c748-57561dc95297"
      },
      "execution_count": 90,
      "outputs": [
        {
          "output_type": "execute_result",
          "data": {
            "text/plain": [
              "61197"
            ]
          },
          "metadata": {},
          "execution_count": 90
        }
      ]
    },
    {
      "cell_type": "code",
      "source": [
        "games_df"
      ],
      "metadata": {
        "colab": {
          "base_uri": "https://localhost:8080/",
          "height": 423
        },
        "id": "BlADGy9Bn0Bk",
        "outputId": "bc15afaf-6625-4782-9a0c-b7c2916c5cb9"
      },
      "execution_count": 80,
      "outputs": [
        {
          "output_type": "execute_result",
          "data": {
            "text/plain": [
              "       game_id competition_id  season               round        date  \\\n",
              "0      2229332            DFL    2012               Final  2012-08-12   \n",
              "1      2244388            SUC    2012       final 1st leg  2012-08-22   \n",
              "2      2269557            CDR    2012   4th round 2nd leg  2012-11-28   \n",
              "3      2254432            CDR    2012  First Round Replay  2012-08-30   \n",
              "4      2221759            DFB    2012         First Round  2012-08-20   \n",
              "...        ...            ...     ...                 ...         ...   \n",
              "61192  3928809            GRP    2022         Third Round  2022-10-05   \n",
              "61193  3942778            GRP    2022         Fifth Round  2022-10-19   \n",
              "61194  3962963            GRP    2022     last 16 2nd leg  2023-01-10   \n",
              "61195  3962951            GRP    2022     last 16 2nd leg  2023-01-11   \n",
              "61196  3921098            GRP    2022        Second Round  2022-09-21   \n",
              "\n",
              "       home_club_id  away_club_id  home_club_goals  away_club_goals aggregate  \\\n",
              "0                27            16                2                1       2:1   \n",
              "1               131           418                3                2       3:2   \n",
              "2              3709          4032                0                0       0:0   \n",
              "3             21322          7077                1                0       1:0   \n",
              "4               109            27                0                4       0:4   \n",
              "...             ...           ...              ...              ...       ...   \n",
              "61192         21600          4585                0                1       0:1   \n",
              "61193          3062          2079                1                0       1:0   \n",
              "61194          1091             9                2                0       2:0   \n",
              "61195          3060           683                2                2       2:2   \n",
              "61196          4592         74281                0                3       0:3   \n",
              "\n",
              "                          stadium  attendance  \n",
              "0                   Allianz Arena       69000  \n",
              "1                Spotify Camp Nou       91728  \n",
              "2          Coliseum Alfonso Pérez        2000  \n",
              "3                       El Palmar           0  \n",
              "4                     Jahnstadion       12500  \n",
              "...                           ...         ...  \n",
              "61192       Gipedo Neas Efkarpias           0  \n",
              "61193  Grigoris Lambrakis Stadium           0  \n",
              "61194              Toumba Stadium           0  \n",
              "61195          Stadio Peristeriou           0  \n",
              "61196     Dimotiko Stadio Naousas           0  \n",
              "\n",
              "[61197 rows x 12 columns]"
            ],
            "text/html": [
              "\n",
              "  <div id=\"df-a019a38f-7e25-4891-a07e-cd318a730e51\">\n",
              "    <div class=\"colab-df-container\">\n",
              "      <div>\n",
              "<style scoped>\n",
              "    .dataframe tbody tr th:only-of-type {\n",
              "        vertical-align: middle;\n",
              "    }\n",
              "\n",
              "    .dataframe tbody tr th {\n",
              "        vertical-align: top;\n",
              "    }\n",
              "\n",
              "    .dataframe thead th {\n",
              "        text-align: right;\n",
              "    }\n",
              "</style>\n",
              "<table border=\"1\" class=\"dataframe\">\n",
              "  <thead>\n",
              "    <tr style=\"text-align: right;\">\n",
              "      <th></th>\n",
              "      <th>game_id</th>\n",
              "      <th>competition_id</th>\n",
              "      <th>season</th>\n",
              "      <th>round</th>\n",
              "      <th>date</th>\n",
              "      <th>home_club_id</th>\n",
              "      <th>away_club_id</th>\n",
              "      <th>home_club_goals</th>\n",
              "      <th>away_club_goals</th>\n",
              "      <th>aggregate</th>\n",
              "      <th>stadium</th>\n",
              "      <th>attendance</th>\n",
              "    </tr>\n",
              "  </thead>\n",
              "  <tbody>\n",
              "    <tr>\n",
              "      <th>0</th>\n",
              "      <td>2229332</td>\n",
              "      <td>DFL</td>\n",
              "      <td>2012</td>\n",
              "      <td>Final</td>\n",
              "      <td>2012-08-12</td>\n",
              "      <td>27</td>\n",
              "      <td>16</td>\n",
              "      <td>2</td>\n",
              "      <td>1</td>\n",
              "      <td>2:1</td>\n",
              "      <td>Allianz Arena</td>\n",
              "      <td>69000</td>\n",
              "    </tr>\n",
              "    <tr>\n",
              "      <th>1</th>\n",
              "      <td>2244388</td>\n",
              "      <td>SUC</td>\n",
              "      <td>2012</td>\n",
              "      <td>final 1st leg</td>\n",
              "      <td>2012-08-22</td>\n",
              "      <td>131</td>\n",
              "      <td>418</td>\n",
              "      <td>3</td>\n",
              "      <td>2</td>\n",
              "      <td>3:2</td>\n",
              "      <td>Spotify Camp Nou</td>\n",
              "      <td>91728</td>\n",
              "    </tr>\n",
              "    <tr>\n",
              "      <th>2</th>\n",
              "      <td>2269557</td>\n",
              "      <td>CDR</td>\n",
              "      <td>2012</td>\n",
              "      <td>4th round 2nd leg</td>\n",
              "      <td>2012-11-28</td>\n",
              "      <td>3709</td>\n",
              "      <td>4032</td>\n",
              "      <td>0</td>\n",
              "      <td>0</td>\n",
              "      <td>0:0</td>\n",
              "      <td>Coliseum Alfonso Pérez</td>\n",
              "      <td>2000</td>\n",
              "    </tr>\n",
              "    <tr>\n",
              "      <th>3</th>\n",
              "      <td>2254432</td>\n",
              "      <td>CDR</td>\n",
              "      <td>2012</td>\n",
              "      <td>First Round Replay</td>\n",
              "      <td>2012-08-30</td>\n",
              "      <td>21322</td>\n",
              "      <td>7077</td>\n",
              "      <td>1</td>\n",
              "      <td>0</td>\n",
              "      <td>1:0</td>\n",
              "      <td>El Palmar</td>\n",
              "      <td>0</td>\n",
              "    </tr>\n",
              "    <tr>\n",
              "      <th>4</th>\n",
              "      <td>2221759</td>\n",
              "      <td>DFB</td>\n",
              "      <td>2012</td>\n",
              "      <td>First Round</td>\n",
              "      <td>2012-08-20</td>\n",
              "      <td>109</td>\n",
              "      <td>27</td>\n",
              "      <td>0</td>\n",
              "      <td>4</td>\n",
              "      <td>0:4</td>\n",
              "      <td>Jahnstadion</td>\n",
              "      <td>12500</td>\n",
              "    </tr>\n",
              "    <tr>\n",
              "      <th>...</th>\n",
              "      <td>...</td>\n",
              "      <td>...</td>\n",
              "      <td>...</td>\n",
              "      <td>...</td>\n",
              "      <td>...</td>\n",
              "      <td>...</td>\n",
              "      <td>...</td>\n",
              "      <td>...</td>\n",
              "      <td>...</td>\n",
              "      <td>...</td>\n",
              "      <td>...</td>\n",
              "      <td>...</td>\n",
              "    </tr>\n",
              "    <tr>\n",
              "      <th>61192</th>\n",
              "      <td>3928809</td>\n",
              "      <td>GRP</td>\n",
              "      <td>2022</td>\n",
              "      <td>Third Round</td>\n",
              "      <td>2022-10-05</td>\n",
              "      <td>21600</td>\n",
              "      <td>4585</td>\n",
              "      <td>0</td>\n",
              "      <td>1</td>\n",
              "      <td>0:1</td>\n",
              "      <td>Gipedo Neas Efkarpias</td>\n",
              "      <td>0</td>\n",
              "    </tr>\n",
              "    <tr>\n",
              "      <th>61193</th>\n",
              "      <td>3942778</td>\n",
              "      <td>GRP</td>\n",
              "      <td>2022</td>\n",
              "      <td>Fifth Round</td>\n",
              "      <td>2022-10-19</td>\n",
              "      <td>3062</td>\n",
              "      <td>2079</td>\n",
              "      <td>1</td>\n",
              "      <td>0</td>\n",
              "      <td>1:0</td>\n",
              "      <td>Grigoris Lambrakis Stadium</td>\n",
              "      <td>0</td>\n",
              "    </tr>\n",
              "    <tr>\n",
              "      <th>61194</th>\n",
              "      <td>3962963</td>\n",
              "      <td>GRP</td>\n",
              "      <td>2022</td>\n",
              "      <td>last 16 2nd leg</td>\n",
              "      <td>2023-01-10</td>\n",
              "      <td>1091</td>\n",
              "      <td>9</td>\n",
              "      <td>2</td>\n",
              "      <td>0</td>\n",
              "      <td>2:0</td>\n",
              "      <td>Toumba Stadium</td>\n",
              "      <td>0</td>\n",
              "    </tr>\n",
              "    <tr>\n",
              "      <th>61195</th>\n",
              "      <td>3962951</td>\n",
              "      <td>GRP</td>\n",
              "      <td>2022</td>\n",
              "      <td>last 16 2nd leg</td>\n",
              "      <td>2023-01-11</td>\n",
              "      <td>3060</td>\n",
              "      <td>683</td>\n",
              "      <td>2</td>\n",
              "      <td>2</td>\n",
              "      <td>2:2</td>\n",
              "      <td>Stadio Peristeriou</td>\n",
              "      <td>0</td>\n",
              "    </tr>\n",
              "    <tr>\n",
              "      <th>61196</th>\n",
              "      <td>3921098</td>\n",
              "      <td>GRP</td>\n",
              "      <td>2022</td>\n",
              "      <td>Second Round</td>\n",
              "      <td>2022-09-21</td>\n",
              "      <td>4592</td>\n",
              "      <td>74281</td>\n",
              "      <td>0</td>\n",
              "      <td>3</td>\n",
              "      <td>0:3</td>\n",
              "      <td>Dimotiko Stadio Naousas</td>\n",
              "      <td>0</td>\n",
              "    </tr>\n",
              "  </tbody>\n",
              "</table>\n",
              "<p>61197 rows × 12 columns</p>\n",
              "</div>\n",
              "      <button class=\"colab-df-convert\" onclick=\"convertToInteractive('df-a019a38f-7e25-4891-a07e-cd318a730e51')\"\n",
              "              title=\"Convert this dataframe to an interactive table.\"\n",
              "              style=\"display:none;\">\n",
              "        \n",
              "  <svg xmlns=\"http://www.w3.org/2000/svg\" height=\"24px\"viewBox=\"0 0 24 24\"\n",
              "       width=\"24px\">\n",
              "    <path d=\"M0 0h24v24H0V0z\" fill=\"none\"/>\n",
              "    <path d=\"M18.56 5.44l.94 2.06.94-2.06 2.06-.94-2.06-.94-.94-2.06-.94 2.06-2.06.94zm-11 1L8.5 8.5l.94-2.06 2.06-.94-2.06-.94L8.5 2.5l-.94 2.06-2.06.94zm10 10l.94 2.06.94-2.06 2.06-.94-2.06-.94-.94-2.06-.94 2.06-2.06.94z\"/><path d=\"M17.41 7.96l-1.37-1.37c-.4-.4-.92-.59-1.43-.59-.52 0-1.04.2-1.43.59L10.3 9.45l-7.72 7.72c-.78.78-.78 2.05 0 2.83L4 21.41c.39.39.9.59 1.41.59.51 0 1.02-.2 1.41-.59l7.78-7.78 2.81-2.81c.8-.78.8-2.07 0-2.86zM5.41 20L4 18.59l7.72-7.72 1.47 1.35L5.41 20z\"/>\n",
              "  </svg>\n",
              "      </button>\n",
              "      \n",
              "  <style>\n",
              "    .colab-df-container {\n",
              "      display:flex;\n",
              "      flex-wrap:wrap;\n",
              "      gap: 12px;\n",
              "    }\n",
              "\n",
              "    .colab-df-convert {\n",
              "      background-color: #E8F0FE;\n",
              "      border: none;\n",
              "      border-radius: 50%;\n",
              "      cursor: pointer;\n",
              "      display: none;\n",
              "      fill: #1967D2;\n",
              "      height: 32px;\n",
              "      padding: 0 0 0 0;\n",
              "      width: 32px;\n",
              "    }\n",
              "\n",
              "    .colab-df-convert:hover {\n",
              "      background-color: #E2EBFA;\n",
              "      box-shadow: 0px 1px 2px rgba(60, 64, 67, 0.3), 0px 1px 3px 1px rgba(60, 64, 67, 0.15);\n",
              "      fill: #174EA6;\n",
              "    }\n",
              "\n",
              "    [theme=dark] .colab-df-convert {\n",
              "      background-color: #3B4455;\n",
              "      fill: #D2E3FC;\n",
              "    }\n",
              "\n",
              "    [theme=dark] .colab-df-convert:hover {\n",
              "      background-color: #434B5C;\n",
              "      box-shadow: 0px 1px 3px 1px rgba(0, 0, 0, 0.15);\n",
              "      filter: drop-shadow(0px 1px 2px rgba(0, 0, 0, 0.3));\n",
              "      fill: #FFFFFF;\n",
              "    }\n",
              "  </style>\n",
              "\n",
              "      <script>\n",
              "        const buttonEl =\n",
              "          document.querySelector('#df-a019a38f-7e25-4891-a07e-cd318a730e51 button.colab-df-convert');\n",
              "        buttonEl.style.display =\n",
              "          google.colab.kernel.accessAllowed ? 'block' : 'none';\n",
              "\n",
              "        async function convertToInteractive(key) {\n",
              "          const element = document.querySelector('#df-a019a38f-7e25-4891-a07e-cd318a730e51');\n",
              "          const dataTable =\n",
              "            await google.colab.kernel.invokeFunction('convertToInteractive',\n",
              "                                                     [key], {});\n",
              "          if (!dataTable) return;\n",
              "\n",
              "          const docLinkHtml = 'Like what you see? Visit the ' +\n",
              "            '<a target=\"_blank\" href=https://colab.research.google.com/notebooks/data_table.ipynb>data table notebook</a>'\n",
              "            + ' to learn more about interactive tables.';\n",
              "          element.innerHTML = '';\n",
              "          dataTable['output_type'] = 'display_data';\n",
              "          await google.colab.output.renderOutput(dataTable, element);\n",
              "          const docLink = document.createElement('div');\n",
              "          docLink.innerHTML = docLinkHtml;\n",
              "          element.appendChild(docLink);\n",
              "        }\n",
              "      </script>\n",
              "    </div>\n",
              "  </div>\n",
              "  "
            ]
          },
          "metadata": {},
          "execution_count": 80
        }
      ]
    },
    {
      "cell_type": "markdown",
      "source": [
        "# Cleaning Appearances Dataset"
      ],
      "metadata": {
        "id": "kgepfoBDo91x"
      }
    },
    {
      "cell_type": "code",
      "source": [
        "appearances_df = pd.read_csv(\"appearances.csv\")"
      ],
      "metadata": {
        "id": "QNNpjF4PpCoB"
      },
      "execution_count": 84,
      "outputs": []
    },
    {
      "cell_type": "code",
      "source": [
        "appearances_df.columns"
      ],
      "metadata": {
        "colab": {
          "base_uri": "https://localhost:8080/"
        },
        "id": "hWeAQYsmpZqT",
        "outputId": "799fcfca-e33b-43c9-eaa5-6ff83155e4a7"
      },
      "execution_count": 85,
      "outputs": [
        {
          "output_type": "execute_result",
          "data": {
            "text/plain": [
              "Index(['appearance_id', 'game_id', 'player_id', 'player_club_id',\n",
              "       'player_current_club_id', 'date', 'player_name', 'competition_id',\n",
              "       'yellow_cards', 'red_cards', 'goals', 'assists', 'minutes_played'],\n",
              "      dtype='object')"
            ]
          },
          "metadata": {},
          "execution_count": 85
        }
      ]
    },
    {
      "cell_type": "code",
      "source": [
        "appearances_df"
      ],
      "metadata": {
        "colab": {
          "base_uri": "https://localhost:8080/",
          "height": 423
        },
        "id": "PKd50gVKpmN3",
        "outputId": "2fc16004-75d5-4a47-8be7-87e4f6cf619f"
      },
      "execution_count": 89,
      "outputs": [
        {
          "output_type": "execute_result",
          "data": {
            "text/plain": [
              "         game_id  player_id  player_club_id        date           player_name  \\\n",
              "0        2483937      52453           28095  2014-08-08         Haris Handzic   \n",
              "1        2479929      67064           28095  2014-08-03  Felicio Brown Forbes   \n",
              "2        2483937      67064           28095  2014-08-08  Felicio Brown Forbes   \n",
              "3        2484582      67064           28095  2014-08-13  Felicio Brown Forbes   \n",
              "4        2485965      67064           28095  2014-08-16  Felicio Brown Forbes   \n",
              "...          ...        ...             ...         ...                   ...   \n",
              "1049580  3589536     555076            1041  2022-04-20         Romain Faivre   \n",
              "1049581  3589565     555076            1041  2022-05-01         Romain Faivre   \n",
              "1049582  3589576     555076            1041  2022-05-08         Romain Faivre   \n",
              "1049583  3589582     555076            1041  2022-05-14         Romain Faivre   \n",
              "1049584  3589600     555076            1041  2022-05-21         Romain Faivre   \n",
              "\n",
              "         yellow_cards  red_cards  goals  assists  minutes_played  \n",
              "0                   0          0      0        0              90  \n",
              "1                   0          0      0        0              90  \n",
              "2                   0          0      0        0              90  \n",
              "3                   0          0      0        0              55  \n",
              "4                   0          0      0        0              90  \n",
              "...               ...        ...    ...      ...             ...  \n",
              "1049580             0          0      0        0              90  \n",
              "1049581             0          0      0        0               7  \n",
              "1049582             0          0      0        0              45  \n",
              "1049583             0          0      0        0              64  \n",
              "1049584             0          0      0        0               9  \n",
              "\n",
              "[1049585 rows x 10 columns]"
            ],
            "text/html": [
              "\n",
              "  <div id=\"df-ac03fe92-8501-4bd3-8bdc-e52b5e3ce8d5\">\n",
              "    <div class=\"colab-df-container\">\n",
              "      <div>\n",
              "<style scoped>\n",
              "    .dataframe tbody tr th:only-of-type {\n",
              "        vertical-align: middle;\n",
              "    }\n",
              "\n",
              "    .dataframe tbody tr th {\n",
              "        vertical-align: top;\n",
              "    }\n",
              "\n",
              "    .dataframe thead th {\n",
              "        text-align: right;\n",
              "    }\n",
              "</style>\n",
              "<table border=\"1\" class=\"dataframe\">\n",
              "  <thead>\n",
              "    <tr style=\"text-align: right;\">\n",
              "      <th></th>\n",
              "      <th>game_id</th>\n",
              "      <th>player_id</th>\n",
              "      <th>player_club_id</th>\n",
              "      <th>date</th>\n",
              "      <th>player_name</th>\n",
              "      <th>yellow_cards</th>\n",
              "      <th>red_cards</th>\n",
              "      <th>goals</th>\n",
              "      <th>assists</th>\n",
              "      <th>minutes_played</th>\n",
              "    </tr>\n",
              "  </thead>\n",
              "  <tbody>\n",
              "    <tr>\n",
              "      <th>0</th>\n",
              "      <td>2483937</td>\n",
              "      <td>52453</td>\n",
              "      <td>28095</td>\n",
              "      <td>2014-08-08</td>\n",
              "      <td>Haris Handzic</td>\n",
              "      <td>0</td>\n",
              "      <td>0</td>\n",
              "      <td>0</td>\n",
              "      <td>0</td>\n",
              "      <td>90</td>\n",
              "    </tr>\n",
              "    <tr>\n",
              "      <th>1</th>\n",
              "      <td>2479929</td>\n",
              "      <td>67064</td>\n",
              "      <td>28095</td>\n",
              "      <td>2014-08-03</td>\n",
              "      <td>Felicio Brown Forbes</td>\n",
              "      <td>0</td>\n",
              "      <td>0</td>\n",
              "      <td>0</td>\n",
              "      <td>0</td>\n",
              "      <td>90</td>\n",
              "    </tr>\n",
              "    <tr>\n",
              "      <th>2</th>\n",
              "      <td>2483937</td>\n",
              "      <td>67064</td>\n",
              "      <td>28095</td>\n",
              "      <td>2014-08-08</td>\n",
              "      <td>Felicio Brown Forbes</td>\n",
              "      <td>0</td>\n",
              "      <td>0</td>\n",
              "      <td>0</td>\n",
              "      <td>0</td>\n",
              "      <td>90</td>\n",
              "    </tr>\n",
              "    <tr>\n",
              "      <th>3</th>\n",
              "      <td>2484582</td>\n",
              "      <td>67064</td>\n",
              "      <td>28095</td>\n",
              "      <td>2014-08-13</td>\n",
              "      <td>Felicio Brown Forbes</td>\n",
              "      <td>0</td>\n",
              "      <td>0</td>\n",
              "      <td>0</td>\n",
              "      <td>0</td>\n",
              "      <td>55</td>\n",
              "    </tr>\n",
              "    <tr>\n",
              "      <th>4</th>\n",
              "      <td>2485965</td>\n",
              "      <td>67064</td>\n",
              "      <td>28095</td>\n",
              "      <td>2014-08-16</td>\n",
              "      <td>Felicio Brown Forbes</td>\n",
              "      <td>0</td>\n",
              "      <td>0</td>\n",
              "      <td>0</td>\n",
              "      <td>0</td>\n",
              "      <td>90</td>\n",
              "    </tr>\n",
              "    <tr>\n",
              "      <th>...</th>\n",
              "      <td>...</td>\n",
              "      <td>...</td>\n",
              "      <td>...</td>\n",
              "      <td>...</td>\n",
              "      <td>...</td>\n",
              "      <td>...</td>\n",
              "      <td>...</td>\n",
              "      <td>...</td>\n",
              "      <td>...</td>\n",
              "      <td>...</td>\n",
              "    </tr>\n",
              "    <tr>\n",
              "      <th>1049580</th>\n",
              "      <td>3589536</td>\n",
              "      <td>555076</td>\n",
              "      <td>1041</td>\n",
              "      <td>2022-04-20</td>\n",
              "      <td>Romain Faivre</td>\n",
              "      <td>0</td>\n",
              "      <td>0</td>\n",
              "      <td>0</td>\n",
              "      <td>0</td>\n",
              "      <td>90</td>\n",
              "    </tr>\n",
              "    <tr>\n",
              "      <th>1049581</th>\n",
              "      <td>3589565</td>\n",
              "      <td>555076</td>\n",
              "      <td>1041</td>\n",
              "      <td>2022-05-01</td>\n",
              "      <td>Romain Faivre</td>\n",
              "      <td>0</td>\n",
              "      <td>0</td>\n",
              "      <td>0</td>\n",
              "      <td>0</td>\n",
              "      <td>7</td>\n",
              "    </tr>\n",
              "    <tr>\n",
              "      <th>1049582</th>\n",
              "      <td>3589576</td>\n",
              "      <td>555076</td>\n",
              "      <td>1041</td>\n",
              "      <td>2022-05-08</td>\n",
              "      <td>Romain Faivre</td>\n",
              "      <td>0</td>\n",
              "      <td>0</td>\n",
              "      <td>0</td>\n",
              "      <td>0</td>\n",
              "      <td>45</td>\n",
              "    </tr>\n",
              "    <tr>\n",
              "      <th>1049583</th>\n",
              "      <td>3589582</td>\n",
              "      <td>555076</td>\n",
              "      <td>1041</td>\n",
              "      <td>2022-05-14</td>\n",
              "      <td>Romain Faivre</td>\n",
              "      <td>0</td>\n",
              "      <td>0</td>\n",
              "      <td>0</td>\n",
              "      <td>0</td>\n",
              "      <td>64</td>\n",
              "    </tr>\n",
              "    <tr>\n",
              "      <th>1049584</th>\n",
              "      <td>3589600</td>\n",
              "      <td>555076</td>\n",
              "      <td>1041</td>\n",
              "      <td>2022-05-21</td>\n",
              "      <td>Romain Faivre</td>\n",
              "      <td>0</td>\n",
              "      <td>0</td>\n",
              "      <td>0</td>\n",
              "      <td>0</td>\n",
              "      <td>9</td>\n",
              "    </tr>\n",
              "  </tbody>\n",
              "</table>\n",
              "<p>1049585 rows × 10 columns</p>\n",
              "</div>\n",
              "      <button class=\"colab-df-convert\" onclick=\"convertToInteractive('df-ac03fe92-8501-4bd3-8bdc-e52b5e3ce8d5')\"\n",
              "              title=\"Convert this dataframe to an interactive table.\"\n",
              "              style=\"display:none;\">\n",
              "        \n",
              "  <svg xmlns=\"http://www.w3.org/2000/svg\" height=\"24px\"viewBox=\"0 0 24 24\"\n",
              "       width=\"24px\">\n",
              "    <path d=\"M0 0h24v24H0V0z\" fill=\"none\"/>\n",
              "    <path d=\"M18.56 5.44l.94 2.06.94-2.06 2.06-.94-2.06-.94-.94-2.06-.94 2.06-2.06.94zm-11 1L8.5 8.5l.94-2.06 2.06-.94-2.06-.94L8.5 2.5l-.94 2.06-2.06.94zm10 10l.94 2.06.94-2.06 2.06-.94-2.06-.94-.94-2.06-.94 2.06-2.06.94z\"/><path d=\"M17.41 7.96l-1.37-1.37c-.4-.4-.92-.59-1.43-.59-.52 0-1.04.2-1.43.59L10.3 9.45l-7.72 7.72c-.78.78-.78 2.05 0 2.83L4 21.41c.39.39.9.59 1.41.59.51 0 1.02-.2 1.41-.59l7.78-7.78 2.81-2.81c.8-.78.8-2.07 0-2.86zM5.41 20L4 18.59l7.72-7.72 1.47 1.35L5.41 20z\"/>\n",
              "  </svg>\n",
              "      </button>\n",
              "      \n",
              "  <style>\n",
              "    .colab-df-container {\n",
              "      display:flex;\n",
              "      flex-wrap:wrap;\n",
              "      gap: 12px;\n",
              "    }\n",
              "\n",
              "    .colab-df-convert {\n",
              "      background-color: #E8F0FE;\n",
              "      border: none;\n",
              "      border-radius: 50%;\n",
              "      cursor: pointer;\n",
              "      display: none;\n",
              "      fill: #1967D2;\n",
              "      height: 32px;\n",
              "      padding: 0 0 0 0;\n",
              "      width: 32px;\n",
              "    }\n",
              "\n",
              "    .colab-df-convert:hover {\n",
              "      background-color: #E2EBFA;\n",
              "      box-shadow: 0px 1px 2px rgba(60, 64, 67, 0.3), 0px 1px 3px 1px rgba(60, 64, 67, 0.15);\n",
              "      fill: #174EA6;\n",
              "    }\n",
              "\n",
              "    [theme=dark] .colab-df-convert {\n",
              "      background-color: #3B4455;\n",
              "      fill: #D2E3FC;\n",
              "    }\n",
              "\n",
              "    [theme=dark] .colab-df-convert:hover {\n",
              "      background-color: #434B5C;\n",
              "      box-shadow: 0px 1px 3px 1px rgba(0, 0, 0, 0.15);\n",
              "      filter: drop-shadow(0px 1px 2px rgba(0, 0, 0, 0.3));\n",
              "      fill: #FFFFFF;\n",
              "    }\n",
              "  </style>\n",
              "\n",
              "      <script>\n",
              "        const buttonEl =\n",
              "          document.querySelector('#df-ac03fe92-8501-4bd3-8bdc-e52b5e3ce8d5 button.colab-df-convert');\n",
              "        buttonEl.style.display =\n",
              "          google.colab.kernel.accessAllowed ? 'block' : 'none';\n",
              "\n",
              "        async function convertToInteractive(key) {\n",
              "          const element = document.querySelector('#df-ac03fe92-8501-4bd3-8bdc-e52b5e3ce8d5');\n",
              "          const dataTable =\n",
              "            await google.colab.kernel.invokeFunction('convertToInteractive',\n",
              "                                                     [key], {});\n",
              "          if (!dataTable) return;\n",
              "\n",
              "          const docLinkHtml = 'Like what you see? Visit the ' +\n",
              "            '<a target=\"_blank\" href=https://colab.research.google.com/notebooks/data_table.ipynb>data table notebook</a>'\n",
              "            + ' to learn more about interactive tables.';\n",
              "          element.innerHTML = '';\n",
              "          dataTable['output_type'] = 'display_data';\n",
              "          await google.colab.output.renderOutput(dataTable, element);\n",
              "          const docLink = document.createElement('div');\n",
              "          docLink.innerHTML = docLinkHtml;\n",
              "          element.appendChild(docLink);\n",
              "        }\n",
              "      </script>\n",
              "    </div>\n",
              "  </div>\n",
              "  "
            ]
          },
          "metadata": {},
          "execution_count": 89
        }
      ]
    },
    {
      "cell_type": "code",
      "source": [
        "appearances_df = appearances_df.drop(columns=[\"appearance_id\", \"player_current_club_id\", \"competition_id\"])\n",
        "len(appearances_df)"
      ],
      "metadata": {
        "colab": {
          "base_uri": "https://localhost:8080/"
        },
        "id": "Z540Yt65pcuM",
        "outputId": "875799d6-b6e8-4fd0-a901-030d7bca2b0d"
      },
      "execution_count": 88,
      "outputs": [
        {
          "output_type": "execute_result",
          "data": {
            "text/plain": [
              "1049585"
            ]
          },
          "metadata": {},
          "execution_count": 88
        }
      ]
    },
    {
      "cell_type": "code",
      "source": [
        "appearances_df = appearances_df.dropna(subset=[\"game_id\", \"player_id\", \"player_club_id\"])\n",
        "len(appearances_df)"
      ],
      "metadata": {
        "colab": {
          "base_uri": "https://localhost:8080/"
        },
        "id": "iOfa7cFBqFjo",
        "outputId": "a3ee0543-7105-4121-96e0-f65a9e7fbdc0"
      },
      "execution_count": 92,
      "outputs": [
        {
          "output_type": "execute_result",
          "data": {
            "text/plain": [
              "1049585"
            ]
          },
          "metadata": {},
          "execution_count": 92
        }
      ]
    },
    {
      "cell_type": "markdown",
      "source": [
        "# Export Tables for DB"
      ],
      "metadata": {
        "id": "gmkPnM65rbty"
      }
    },
    {
      "cell_type": "code",
      "source": [
        "players_df.to_csv('players_cleaned.csv',na_rep='Unknown')\n",
        "clubs_df.to_csv('clubs_cleaned.csv',na_rep='Unknown')\n",
        "games_df.to_csv('games_cleaned.csv',na_rep='Unknown')\n",
        "appearances_df.to_csv('appearances_cleaned.csv',na_rep='Unknown')"
      ],
      "metadata": {
        "id": "QBmi01t2rbAY"
      },
      "execution_count": 93,
      "outputs": []
    }
  ]
}